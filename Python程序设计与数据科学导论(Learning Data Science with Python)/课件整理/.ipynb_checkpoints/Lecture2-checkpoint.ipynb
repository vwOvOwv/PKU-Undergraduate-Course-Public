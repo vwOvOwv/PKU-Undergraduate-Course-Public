{
 "cells": [
  {
   "cell_type": "markdown",
   "id": "c50bff79-acfd-4b09-9889-bca32141b8ba",
   "metadata": {},
   "source": [
    "# Lecture2 函数"
   ]
  },
  {
   "cell_type": "markdown",
   "id": "6e760494-182b-4cb7-a87a-8c520207c206",
   "metadata": {},
   "source": [
    "## 一、列表生成式\n",
    "### 1.嵌套的列表生成式（略）\n",
    "### 2.zip()\n",
    "输入多个**可迭代**对象，依次取出对应元素（完成计算-合并），直到**其中一个**迭代器到达尾部  \n",
    "```最新版python规定各个迭代器的大小须相等```"
   ]
  },
  {
   "cell_type": "code",
   "execution_count": 4,
   "id": "eeb5f3ae-3391-4990-94f1-6c7e93fa5eba",
   "metadata": {},
   "outputs": [
    {
     "name": "stdout",
     "output_type": "stream",
     "text": [
      "[(10, 'ab', 0), (20, 'cd', 1), (30, 100, 2)]\n"
     ]
    }
   ],
   "source": [
    "a = [10,20,30,40]\n",
    "b = ['ab','cd',100]\n",
    "c = (i for i in range(5))\n",
    "li = [(i,j,k) for i,j,k in zip(a,b,c)]\n",
    "print(li)"
   ]
  },
  {
   "cell_type": "markdown",
   "id": "c0a9cc1f-1cc8-41c1-aeee-1db19d55b59b",
   "metadata": {},
   "source": [
    "#### 矩阵乘法"
   ]
  },
  {
   "cell_type": "code",
   "execution_count": 10,
   "id": "71fd3ef4-f57a-4c67-a810-1f408a03657d",
   "metadata": {},
   "outputs": [
    {
     "name": "stdout",
     "output_type": "stream",
     "text": [
      "[(5, 6, 4), (8, 7, 5), (1, 3, 9), (2, 0, 1)]\n",
      "[114, 160, 60, 27]\n",
      "[74, 97, 73, 14]\n",
      "[119, 157, 112, 23]\n"
     ]
    }
   ],
   "source": [
    "X = [[12,7,3],[4,5,6],[7,8,9]] # 3*3 matrix\n",
    "Y = [[5,8,1,2],[6,7,3,0],[4,5,9,1]] # 3*4 matrix\n",
    "result = [[sum(a*b for a,b in zip(X_row,Y_col))\n",
    "               for Y_col in zip(*Y)] #解包再zip<=>转置（按列取）\n",
    "          for X_row in X] # X的一行\n",
    "print(list(zip(*Y)))\n",
    "for r in result:\n",
    "    print(r)"
   ]
  },
  {
   "cell_type": "markdown",
   "id": "9bb243cb-e647-4fb9-82d4-1d7352a16092",
   "metadata": {},
   "source": [
    "#### 拆分-合并字符串列表"
   ]
  },
  {
   "cell_type": "code",
   "execution_count": 12,
   "id": "18ad36dc-74cd-4442-a43a-0b753b8c6da0",
   "metadata": {},
   "outputs": [
    {
     "name": "stdout",
     "output_type": "stream",
     "text": [
      "['ab', 'cde', 'fgh', 'ijk']\n",
      "['ab', 'cde', 'fgh,ijk']\n"
     ]
    }
   ],
   "source": [
    "s = 'ab,cde,fgh,ijk'\n",
    "print(s.split(','))\n",
    "print(s.split(',',maxsplit=2))"
   ]
  },
  {
   "cell_type": "code",
   "execution_count": 14,
   "id": "ebd5dcb9-3fa2-4fc8-94b8-d542f1ef6096",
   "metadata": {},
   "outputs": [
    {
     "name": "stdout",
     "output_type": "stream",
     "text": [
      "a:b:c:d\n"
     ]
    }
   ],
   "source": [
    "delimiter = ':'\n",
    "mylist = ['a','b','c','d']\n",
    "print(delimiter.join(mylist))"
   ]
  },
  {
   "cell_type": "code",
   "execution_count": 15,
   "id": "7b702e45-be80-4d48-a9fc-0bfa23f33350",
   "metadata": {},
   "outputs": [
    {
     "name": "stdin",
     "output_type": "stream",
     "text": [
      " 2.3 4 1.101\n"
     ]
    },
    {
     "name": "stdout",
     "output_type": "stream",
     "text": [
      "2.3 4.0 1.101\n"
     ]
    }
   ],
   "source": [
    "a,b,c,*_ = map(float, input().split(' '))\n",
    "print(a,b,c)"
   ]
  },
  {
   "cell_type": "code",
   "execution_count": 16,
   "id": "c3b8f63f-bff6-459b-a6ce-064c2ca18008",
   "metadata": {},
   "outputs": [
    {
     "name": "stdin",
     "output_type": "stream",
     "text": [
      " hello world\n",
      " hell o w ld\n"
     ]
    },
    {
     "name": "stdout",
     "output_type": "stream",
     "text": [
      "11110000011\n"
     ]
    }
   ],
   "source": [
    "print(''.join([['0','1'][i==j] for i,j in zip(input(),input())])) #bool做下标"
   ]
  },
  {
   "cell_type": "markdown",
   "id": "f9f2f3d8-b7c8-47b4-9435-676ad944a950",
   "metadata": {},
   "source": [
    "## 二、对象拷贝机制\n",
    "赋值操作本质上是加引用，不会直接导致对象被复制"
   ]
  },
  {
   "cell_type": "code",
   "execution_count": 18,
   "id": "a67221be-d74d-4918-985d-37d9de9de4a9",
   "metadata": {},
   "outputs": [
    {
     "name": "stdout",
     "output_type": "stream",
     "text": [
      "[7, 16, 9, 10]\n"
     ]
    }
   ],
   "source": [
    "li1 = [7,8,9,10]\n",
    "li2 = li1 # 传引用\n",
    "li1[1] = 16\n",
    "print(li2) # li2内容同时被改变"
   ]
  },
  {
   "cell_type": "code",
   "execution_count": 20,
   "id": "575ff59c-3d08-4996-b794-57b2ab5071a6",
   "metadata": {},
   "outputs": [
    {
     "name": "stdout",
     "output_type": "stream",
     "text": [
      "[{'g': 1.5}, {'g': 1.5}, {'g': 1.5}, {'g': 1.5}]\n",
      "[{'g': '32'}, {'g': '32'}, {'g': '32'}, {'g': '32'}]\n"
     ]
    }
   ],
   "source": [
    "b = [{'g':1.5}] * 4 #复制引用，对象仍为一个\n",
    "print(b)\n",
    "b[0]['g'] = '32'\n",
    "print(b)"
   ]
  },
  {
   "cell_type": "code",
   "execution_count": 21,
   "id": "e3dfe419-6077-4020-88b6-eaf2dd6223aa",
   "metadata": {},
   "outputs": [
    {
     "name": "stdout",
     "output_type": "stream",
     "text": [
      "[{'g': '32'}, {'g': 1}, {'g': 1}, {'g': 1}]\n"
     ]
    }
   ],
   "source": [
    "b = [{'g':1}] + [{'g':1}] + [{'g':1}] + [{'g':1}] # 加法则创建四个对象\n",
    "b[0]['g'] = '32'\n",
    "print(b)"
   ]
  },
  {
   "cell_type": "markdown",
   "id": "a1be3cdb-e9f3-43d3-b943-a00253a2a226",
   "metadata": {},
   "source": [
    "### 1.浅拷贝\n",
    "复制引用关系,不拷贝对象"
   ]
  },
  {
   "cell_type": "code",
   "execution_count": 27,
   "id": "889e27c7-3436-4fb1-b236-d71978f10306",
   "metadata": {},
   "outputs": [
    {
     "name": "stdout",
     "output_type": "stream",
     "text": [
      "[1, 2, 3, ['a', 'b']]\n"
     ]
    }
   ],
   "source": [
    "import copy\n",
    "ls = [1,2,3,['a','b']] # 1,2,3为对象，列表为引用（真正的对象不储存在ls里）\n",
    "c = copy.copy(ls) # c = [1, 2, 3, ['a', 'b']]    1，2，3为新对象，列表为新的引用，引用原来的同一对象\n",
    "print(c)"
   ]
  },
  {
   "cell_type": "code",
   "execution_count": 28,
   "id": "7a805fa4-08e2-4afb-9e88-617ba30237f2",
   "metadata": {},
   "outputs": [
    {
     "name": "stdout",
     "output_type": "stream",
     "text": [
      "[1, 2, 3, ['a', 'b', 'c'], 6]\n",
      "[1, 2, 3, ['a', 'b', 'c']]\n"
     ]
    }
   ],
   "source": [
    "ls[3].append('c') #修改列表对象，c中的也变\n",
    "ls.append(6)\n",
    "print(ls)\n",
    "print(c)"
   ]
  },
  {
   "cell_type": "markdown",
   "id": "61db0881-6fa6-417d-a044-3f4ba8844e97",
   "metadata": {},
   "source": [
    "### 2.深拷贝\n",
    "复制引用关系及引用的对象  \n",
    "```如果引用嵌套的层数很深，也可能出现复制不充分的情况```"
   ]
  },
  {
   "cell_type": "code",
   "execution_count": 31,
   "id": "d5ceace4-8d86-4efd-8377-9d74615f5f28",
   "metadata": {},
   "outputs": [
    {
     "name": "stdout",
     "output_type": "stream",
     "text": [
      "[1, 2, 3, ['a', 'b']]\n"
     ]
    }
   ],
   "source": [
    "import copy\n",
    "ls = [1,2,3,['a','b']] # 1,2,3为对象，列表为引用（真正的对象不储存在ls里）\n",
    "c = copy.deepcopy(ls) # c = [1, 2, 3, ['a', 'b']]    1，2，3为新对象，列表为新的引用，引用复制得到的新的对象\n",
    "print(c)"
   ]
  },
  {
   "cell_type": "code",
   "execution_count": 32,
   "id": "c91d56dc-8430-4f37-b5b1-1804e08c250c",
   "metadata": {},
   "outputs": [
    {
     "name": "stdout",
     "output_type": "stream",
     "text": [
      "[1, 2, 3, ['a', 'b', 'c'], 6]\n",
      "[1, 2, 3, ['a', 'b']]\n"
     ]
    }
   ],
   "source": [
    "ls[3].append('c') #修改列表对象，c中的不变\n",
    "ls.append(6)\n",
    "print(ls)\n",
    "print(c)"
   ]
  },
  {
   "cell_type": "markdown",
   "id": "4373d206-7a19-48a0-8893-b3192e15a83e",
   "metadata": {},
   "source": [
    "### 3.名字绑定与引用技术\n",
    "* 名字是对一个对象的称呼，python将赋值语句认为是一个命名操作（或者称为名字绑定）。\n",
    "* python中的所有对象都有引用计数\n",
    "* 对象的引用计数在下列情况下会增加\n",
    "    * 赋值操作、在一个容器（列表，序列，字典等等）中包含该对象\n",
    "* 对象的引用计数在下列情况下会减少\n",
    "    * 离开了当前的名字空间（该名字空间中的本地名字都会被销毁）\n",
    "    * 对象的一个名字被绑定到另外一个对象\n",
    "    * 对象从包含它的容器中移除\n",
    "    * 名字被显式地用del销毁（如：del i）\n",
    "* 引用计数为0时会启动对象回收机制（递归引用会导致内存泄露）"
   ]
  },
  {
   "cell_type": "code",
   "execution_count": 44,
   "id": "027e24dc-88f8-403e-ac0c-864b19dcfa7c",
   "metadata": {},
   "outputs": [
    {
     "name": "stdout",
     "output_type": "stream",
     "text": [
      "3\n",
      "3\n",
      "['num1']\n",
      "['num1', 'num3']\n",
      "7\n",
      "6\n"
     ]
    }
   ],
   "source": [
    "from sys import getrefcount as grc # 引用计数\n",
    "num1 = 2678\n",
    "print(grc(num1)) # 打印num1的被引用次数\n",
    "num2 = num1 + 1\n",
    "print(grc(num1))\n",
    "\n",
    "ref_dict = dict(globals()) # 获取全局引用表\n",
    "print([ref for ref in ref_dict if ref_dict[ref] is num1]) # 查看num1的引用次数\n",
    "\n",
    "num3 = num1\n",
    "ref_dict = dict(globals()) # 获取全局引用表\n",
    "print([ref for ref in ref_dict if ref_dict[ref] is num1])  # 查看num1的引用次数\n",
    "\n",
    "print(grc(num3))\n",
    "del num1\n",
    "print(grc(num3))"
   ]
  },
  {
   "cell_type": "markdown",
   "id": "8e51e04f-6298-4618-b108-ad3deb0fdcc8",
   "metadata": {},
   "source": [
    "## 三、函数\n",
    "### 1.函数定义"
   ]
  },
  {
   "cell_type": "code",
   "execution_count": 45,
   "id": "c78a04b3-e516-4669-ae7b-bc3adf35ffdb",
   "metadata": {},
   "outputs": [
    {
     "name": "stdout",
     "output_type": "stream",
     "text": [
      "1->1->2->3->5->"
     ]
    },
    {
     "data": {
      "text/plain": [
       "'done'"
      ]
     },
     "execution_count": 45,
     "metadata": {},
     "output_type": "execute_result"
    }
   ],
   "source": [
    "def fib(max):\n",
    "    n,a,b = 0,0,1\n",
    "    while n < max:\n",
    "        print(b, end = '->')\n",
    "        a,b = b, a + b\n",
    "        n = n + 1\n",
    "    return 'done'\n",
    "fib(5)"
   ]
  },
  {
   "cell_type": "markdown",
   "id": "6313fa76-fec3-4221-bbac-453c65d2b0f0",
   "metadata": {},
   "source": [
    "### 2.参数传递"
   ]
  },
  {
   "cell_type": "code",
   "execution_count": 47,
   "id": "f0f09215-fedb-43f2-aec0-7f3f95c7f317",
   "metadata": {},
   "outputs": [
    {
     "name": "stdout",
     "output_type": "stream",
     "text": [
      "a的id =  4300534040\n",
      "函数内部\n",
      "num2的id =  4300534040\n",
      "101 99\n",
      "[1, 2, 3, 4]\n",
      "函数外部\n",
      "99 101\n",
      "[4, 5, 10]\n"
     ]
    }
   ],
   "source": [
    "def demo(num1,num2,num_list): # 参数 传引用，可以看作是复制了新的引用\n",
    "    print('函数内部')\n",
    "    # 赋值语句\n",
    "    num1,num2 = num2,num1 # num1,num2分别引用新对象\n",
    "    print(\"num2的id = \",id(num2))\n",
    "    num_list[2] = 10 # 修改外部对象\n",
    "    num_list = [1,2,3,4] # 指向新的对象\n",
    "\n",
    "    print(num1,num2)\n",
    "    print(num_list)\n",
    "a = 99\n",
    "b = 101\n",
    "lst = [4,5,6]\n",
    "print(\"a的id = \", id(a))\n",
    "demo(a,b,lst)\n",
    "print(\"函数外部\")\n",
    "print(a,b) # 引用a,b没有变\n",
    "print(lst)"
   ]
  },
  {
   "cell_type": "markdown",
   "id": "311fcb2d-ef1f-40d5-823c-4a5db1d561a7",
   "metadata": {},
   "source": [
    "### 3.返回值"
   ]
  },
  {
   "cell_type": "code",
   "execution_count": 51,
   "id": "d2abe0af-6065-46c3-8e02-cfe24a05db52",
   "metadata": {},
   "outputs": [
    {
     "name": "stdout",
     "output_type": "stream",
     "text": [
      "b的id =  4300534104\n",
      "函数内部\n",
      "101 99\n",
      "[1, 2, 3, 4]\n",
      "函数外部\n",
      "101 101\n",
      "a的新id =  4300534104\n",
      "[1, 2, 3, 4]\n"
     ]
    }
   ],
   "source": [
    "def demo(num1,num2,num_list): # 参数 传引用，可以看作是复制了新的引用\n",
    "    print('函数内部')\n",
    "    # 赋值语句\n",
    "    num1,num2 = num2,num1 # num1,num2分别引用新对象\n",
    "    num_list[2] = 10 # 修改外部对象\n",
    "    num_list = [1,2,3,4] # 指向新的对象\n",
    "\n",
    "    print(num1,num2)\n",
    "    print(num_list)\n",
    "\n",
    "    return num_list, num1 #返回的均是引用\n",
    "    \n",
    "a = 99\n",
    "b = 101\n",
    "lst = [4,5,6]\n",
    "print(\"b的id = \", id(b))\n",
    "lst, a = demo(a,b,lst)\n",
    "print(\"函数外部\")\n",
    "print(a,b) # a->101\n",
    "print(\"a的新id = \", id(a))\n",
    "print(lst)"
   ]
  },
  {
   "cell_type": "markdown",
   "id": "da19d573-aeef-498a-b786-35823bbad557",
   "metadata": {},
   "source": [
    "#### 快速排序算法"
   ]
  },
  {
   "cell_type": "code",
   "execution_count": 55,
   "id": "05280953-4ec9-458e-902d-4d7212b9c396",
   "metadata": {},
   "outputs": [
    {
     "name": "stdout",
     "output_type": "stream",
     "text": [
      "[1, 2, 3, 4, 5]\n"
     ]
    }
   ],
   "source": [
    "def qsort(arr):\n",
    "    if len(arr) <= 1:\n",
    "        return arr\n",
    "    pivot = arr[len(arr) // 2]\n",
    "    left = [x for x in arr if x < pivot]\n",
    "    middle = [x for x in arr if x == pivot]\n",
    "    right = [x for x in arr if x > pivot]\n",
    "    return qsort(left) + middle + qsort(right) # 返回一个新的列表（一个新对象的引用）\n",
    "\n",
    "print(qsort([5, 4, 3, 2, 1]))"
   ]
  },
  {
   "cell_type": "markdown",
   "id": "33ef7a46-bd3f-432d-9685-3452f052718d",
   "metadata": {},
   "source": [
    "## 四、高阶函数方法\n",
    "### 1.生成器函数"
   ]
  },
  {
   "cell_type": "code",
   "execution_count": 67,
   "id": "d6fa0378-dee0-46c9-83b6-8db56ad6ea34",
   "metadata": {},
   "outputs": [
    {
     "name": "stdout",
     "output_type": "stream",
     "text": [
      "<generator object fib at 0x10644c040>\n"
     ]
    }
   ],
   "source": [
    "# 类似于函数模版\n",
    "def fib(max = 5): # 设置缺省参数值\n",
    "    n, a, b = 0, 0, 1 # 内部变量，每个函数实例都有一个独立的副本\n",
    "    while n < max:\n",
    "        yield b #自陷，等待request,接收request后抛出数据，然后返回下一个序列元素\n",
    "        a, b = b, a + b\n",
    "        n = n + 1\n",
    "    # 无需return\n",
    "f = fib() # 派生出一个生成器实例\n",
    "print(f)"
   ]
  },
  {
   "cell_type": "code",
   "execution_count": 57,
   "id": "bab2ee35-f983-4f4e-8f12-cd6cfc81a59c",
   "metadata": {},
   "outputs": [
    {
     "name": "stdout",
     "output_type": "stream",
     "text": [
      "1\n",
      "1\n",
      "2\n",
      "3\n",
      "5\n"
     ]
    }
   ],
   "source": [
    "for i in f:\n",
    "    print(i)"
   ]
  },
  {
   "cell_type": "code",
   "execution_count": 65,
   "id": "03122a07-8bd2-47ef-847e-3dfdd8186986",
   "metadata": {},
   "outputs": [
    {
     "name": "stdout",
     "output_type": "stream",
     "text": [
      "1 1\n"
     ]
    },
    {
     "ename": "StopIteration",
     "evalue": "",
     "output_type": "error",
     "traceback": [
      "\u001b[0;31m---------------------------------------------------------------------------\u001b[0m",
      "\u001b[0;31mStopIteration\u001b[0m                             Traceback (most recent call last)",
      "Cell \u001b[0;32mIn[65], line 3\u001b[0m\n\u001b[1;32m      1\u001b[0m f \u001b[38;5;241m=\u001b[39m fib(\u001b[38;5;241m2\u001b[39m)\n\u001b[1;32m      2\u001b[0m \u001b[38;5;28mprint\u001b[39m(\u001b[38;5;28mnext\u001b[39m(f), \u001b[38;5;28mnext\u001b[39m(f))\n\u001b[0;32m----> 3\u001b[0m \u001b[38;5;28mprint\u001b[39m(\u001b[38;5;28mnext\u001b[39m(f))\n",
      "\u001b[0;31mStopIteration\u001b[0m: "
     ]
    }
   ],
   "source": [
    "f = fib(2)\n",
    "print(next(f), next(f))\n",
    "print(next(f)) # Exception"
   ]
  },
  {
   "cell_type": "code",
   "execution_count": 68,
   "id": "9eecd693-753c-428d-8778-924c5995c658",
   "metadata": {},
   "outputs": [
    {
     "name": "stdout",
     "output_type": "stream",
     "text": [
      "1 1 2 3 1\n"
     ]
    }
   ],
   "source": [
    "# 派生多个生成器实例\n",
    "f1 = fib(5)\n",
    "f2 = fib(9)\n",
    "print(next(f1), next(f1), next(f1), next(f1), next(f2))"
   ]
  },
  {
   "cell_type": "code",
   "execution_count": 69,
   "id": "d60edaf2-d9c7-41b7-b3ec-5b2a4ffdce99",
   "metadata": {},
   "outputs": [
    {
     "name": "stdout",
     "output_type": "stream",
     "text": [
      "[5]\n",
      "[1, 2, 3, 5, 8, 13, 21, 34]\n"
     ]
    }
   ],
   "source": [
    "print([i for i in f1])\n",
    "print([i for i in f2])"
   ]
  },
  {
   "cell_type": "markdown",
   "id": "32bfb04c-ca41-47a3-9838-c09a0b9fe4db",
   "metadata": {},
   "source": [
    "* 迭代器逻辑上可以看作是一个协议（protocol）\n",
    "* 迭代器、生成器使用中常作为一个流式数据源\n",
    "### 2.Lambda表达式（匿名函数）"
   ]
  },
  {
   "cell_type": "code",
   "execution_count": 75,
   "id": "cbacbf2d-6a52-48f0-855a-b87830982d1e",
   "metadata": {},
   "outputs": [
    {
     "data": {
      "text/plain": [
       "<function __main__.<lambda>(x, y)>"
      ]
     },
     "execution_count": 75,
     "metadata": {},
     "output_type": "execute_result"
    }
   ],
   "source": [
    "lambda x, y: x + y"
   ]
  },
  {
   "cell_type": "code",
   "execution_count": 77,
   "id": "7e5d5bf5-01e1-4488-b5ef-2935e1b4f1b9",
   "metadata": {},
   "outputs": [
    {
     "ename": "TypeError",
     "evalue": "'list' object is not callable",
     "output_type": "error",
     "traceback": [
      "\u001b[0;31m---------------------------------------------------------------------------\u001b[0m",
      "\u001b[0;31mTypeError\u001b[0m                                 Traceback (most recent call last)",
      "Cell \u001b[0;32mIn[77], line 1\u001b[0m\n\u001b[0;32m----> 1\u001b[0m _(\u001b[38;5;241m2\u001b[39m, \u001b[38;5;241m3\u001b[39m)\n",
      "\u001b[0;31mTypeError\u001b[0m: 'list' object is not callable"
     ]
    }
   ],
   "source": [
    "_(2, 3) # buggy,与课件不符"
   ]
  },
  {
   "cell_type": "code",
   "execution_count": 78,
   "id": "3b8cfe6c-4055-4e66-9d63-9063be2fb948",
   "metadata": {},
   "outputs": [
    {
     "data": {
      "text/plain": [
       "5"
      ]
     },
     "execution_count": 78,
     "metadata": {},
     "output_type": "execute_result"
    }
   ],
   "source": [
    "(lambda x, y: x + y)(2, 3)"
   ]
  },
  {
   "cell_type": "markdown",
   "id": "53934c94-ae37-42ad-9792-26b2bd3f6b3c",
   "metadata": {},
   "source": [
    "### 3.高阶函数——接收函数的函数\n",
    "#### （1）map()\n",
    "* map()函数接收两个参数，一个是**函数**，一个是**Iterable**的对象，map将传入的函数依次作用到序列的每个元素，并把结果作为**新的Iterator**返回。"
   ]
  },
  {
   "cell_type": "code",
   "execution_count": 89,
   "id": "075996c1-5500-41a1-a8b6-cda99143235a",
   "metadata": {},
   "outputs": [
    {
     "name": "stdout",
     "output_type": "stream",
     "text": [
      "[1, 4, 9]\n"
     ]
    }
   ],
   "source": [
    "def f(x):\n",
    "    return x * x\n",
    "\n",
    "r = map(f, [1, 2, 3])\n",
    "print(list(r))"
   ]
  },
  {
   "cell_type": "markdown",
   "id": "68238002-139d-47a6-b84b-74c15ead0e3c",
   "metadata": {},
   "source": [
    "#### （2）reduce()\n",
    "* reduce把一个函数作用在一个序列[x1, x2, x3, ...]上，这个函数必须接收**两个**参数，reduce把结果继续和序列的下一个元素做累积计算。\n",
    "* reduce(f, [x1, x2, x3, x4]) = f(f(f(x1, x2), x3), x4)"
   ]
  },
  {
   "cell_type": "code",
   "execution_count": 90,
   "id": "8eb5d690-8133-44d1-b941-446d43f45d56",
   "metadata": {},
   "outputs": [
    {
     "data": {
      "text/plain": [
       "135"
      ]
     },
     "execution_count": 90,
     "metadata": {},
     "output_type": "execute_result"
    }
   ],
   "source": [
    "from functools import reduce\n",
    "def fn(x, y):\n",
    "    return x * 10 + abs(y)\n",
    "\n",
    "reduce(fn,[1,3,5]) # ((1*10+3)*10)+5"
   ]
  },
  {
   "cell_type": "markdown",
   "id": "678b681b-884f-46fb-9bb3-e926f1061df9",
   "metadata": {},
   "source": [
    "#### （3）filter()\n",
    "* 过滤序列，filter()接收一个函数和一个序列。把传入的函数依次作用于每个元素，然后根据返回值是True还是False决定**保留**还是**丢弃**该元素。"
   ]
  },
  {
   "cell_type": "code",
   "execution_count": 91,
   "id": "6172df10-c94a-4090-a0a2-e746ed5414c7",
   "metadata": {},
   "outputs": [
    {
     "name": "stdout",
     "output_type": "stream",
     "text": [
      "[1, 3, 5]\n"
     ]
    }
   ],
   "source": [
    "odd_numbers = list(filter(lambda x: x % 2, [1,2,3,4,5,6]))\n",
    "print(odd_numbers)"
   ]
  },
  {
   "cell_type": "markdown",
   "id": "03a5c47f-048b-4f80-b488-adf77b7dca90",
   "metadata": {},
   "source": [
    "#### 快速排序"
   ]
  },
  {
   "cell_type": "code",
   "execution_count": 92,
   "id": "96864e59-c649-42de-8fc3-28c64c4ddfb7",
   "metadata": {},
   "outputs": [
    {
     "name": "stdout",
     "output_type": "stream",
     "text": [
      "[1, 1, 2, 3, 4, 5]\n"
     ]
    }
   ],
   "source": [
    "def qsort(a):\n",
    "    if len(a) <= 1:\n",
    "        return a\n",
    "    else:\n",
    "        return (qsort(list(filter(lambda x: x <= a[0], a[1:])))) + [a[0]] + (qsort(list(filter(lambda x: x > a[0], a[1:]))))\n",
    "\n",
    "print(qsort([5,4,3,2,1,1]))"
   ]
  },
  {
   "cell_type": "markdown",
   "id": "0475925d-50dd-4ae1-b6db-90306b2899a9",
   "metadata": {},
   "source": [
    "#### sorted()\n",
    "* 接受一个**可迭代对象**，返回一个排好序的**list**"
   ]
  },
  {
   "cell_type": "code",
   "execution_count": 94,
   "id": "ab3ac88e-6b37-41cf-9852-f9f6a0fa2e8a",
   "metadata": {},
   "outputs": [
    {
     "name": "stdout",
     "output_type": "stream",
     "text": [
      "['id1', 'id100', 'id2', 'id22', 'id3', 'id30']\n",
      "['id30', 'id3', 'id22', 'id2', 'id100', 'id1']\n",
      "['id1', 'id2', 'id3', 'id22', 'id30', 'id100']\n"
     ]
    }
   ],
   "source": [
    "ids = ['id1', 'id2', 'id30', 'id3', 'id22', 'id100']\n",
    "print(sorted(ids))\n",
    "print(sorted(ids, reverse = True))\n",
    "print(sorted(ids, key = lambda x: int(x[2:])))"
   ]
  },
  {
   "cell_type": "markdown",
   "id": "9fe162b0-2843-4425-bfde-d9f75c01f3a6",
   "metadata": {},
   "source": [
    "### 4.函数可变参数列表\n",
    "#### * args & ** kwargs\n",
    "* 主要用于函数定义，支持将不定数量的参数传递给一个函数。\n",
    "* *args是用来发送一个**非键值对的可变数量的参数列表**给当前函数。\n",
    "* **kwargs是用来接受一个 **键值对的可变数量的参数列表** 给当前函数"
   ]
  },
  {
   "cell_type": "code",
   "execution_count": 97,
   "id": "354bd4c8-243b-43a4-b5c7-8d0d73e7a4ea",
   "metadata": {},
   "outputs": [
    {
     "name": "stdout",
     "output_type": "stream",
     "text": [
      "first normal arg:  2024\n",
      "another arg through *argv:  Python Notes\n",
      "another arg through *argv:  PeiyuLiu\n",
      "classroom : 一教101\n",
      "time : 13:00 - 14:50\n"
     ]
    }
   ],
   "source": [
    "def test_var_args(f_arg, *argv, **argd): #起始参数（引用），后继序列，*可理解为解包\n",
    "    print(\"first normal arg: \", f_arg)\n",
    "    for arg in argv:\n",
    "        print(\"another arg through *argv: \", arg)\n",
    "    for k, v in argd.items():\n",
    "        print(k, ':', v)\n",
    "test_var_args('2024', 'Python Notes', 'PeiyuLiu', classroom = '一教101', time = '13:00 - 14:50')"
   ]
  },
  {
   "cell_type": "code",
   "execution_count": 101,
   "id": "4d8a2485-b63a-48d6-bae8-fac3b83342df",
   "metadata": {},
   "outputs": [],
   "source": [
    "def myfun(aa, bb):\n",
    "    print(aa + bb)\n",
    "\n",
    "dic = {'a': 1, 'b': 2}"
   ]
  },
  {
   "cell_type": "code",
   "execution_count": 99,
   "id": "374b19ca-afaa-42f0-b80a-5389fe2306ef",
   "metadata": {},
   "outputs": [
    {
     "name": "stdout",
     "output_type": "stream",
     "text": [
      "ab\n"
     ]
    }
   ],
   "source": [
    "myfun(*dic)"
   ]
  },
  {
   "cell_type": "code",
   "execution_count": 107,
   "id": "8d1dde35-ed56-4f80-b21f-1f55a64d5f74",
   "metadata": {},
   "outputs": [
    {
     "ename": "TypeError",
     "evalue": "myfun() got an unexpected keyword argument 'a'",
     "output_type": "error",
     "traceback": [
      "\u001b[0;31m---------------------------------------------------------------------------\u001b[0m",
      "\u001b[0;31mTypeError\u001b[0m                                 Traceback (most recent call last)",
      "Cell \u001b[0;32mIn[107], line 1\u001b[0m\n\u001b[0;32m----> 1\u001b[0m myfun(\u001b[38;5;241m*\u001b[39m\u001b[38;5;241m*\u001b[39mdic)\n",
      "\u001b[0;31mTypeError\u001b[0m: myfun() got an unexpected keyword argument 'a'"
     ]
    }
   ],
   "source": [
    "myfun(**dic) # buggy,与课件不符"
   ]
  },
  {
   "cell_type": "code",
   "execution_count": 111,
   "id": "308aec8b-2c9c-4af1-b923-8877fcf67192",
   "metadata": {},
   "outputs": [
    {
     "name": "stdout",
     "output_type": "stream",
     "text": [
      "1 (2, 3) 5 {'x': 4, 'n': 6}\n"
     ]
    }
   ],
   "source": [
    "def fun1(a, *b, c, **d):\n",
    "    print(a,b,c,d)\n",
    "\n",
    "fun1(1,2,3,x = 4, c = 5, n = 6) # a little bug"
   ]
  },
  {
   "cell_type": "code",
   "execution_count": 112,
   "id": "917b929a-b209-4d34-9f4f-3dc7e2fb67d0",
   "metadata": {},
   "outputs": [
    {
     "ename": "TypeError",
     "evalue": "fun1() missing 1 required keyword-only argument: 'c'",
     "output_type": "error",
     "traceback": [
      "\u001b[0;31m---------------------------------------------------------------------------\u001b[0m",
      "\u001b[0;31mTypeError\u001b[0m                                 Traceback (most recent call last)",
      "Cell \u001b[0;32mIn[112], line 1\u001b[0m\n\u001b[0;32m----> 1\u001b[0m fun1(\u001b[38;5;241m1\u001b[39m,\u001b[38;5;241m2\u001b[39m,\u001b[38;5;241m3\u001b[39m,x \u001b[38;5;241m=\u001b[39m \u001b[38;5;241m4\u001b[39m, y \u001b[38;5;241m=\u001b[39m \u001b[38;5;241m5\u001b[39m, n \u001b[38;5;241m=\u001b[39m \u001b[38;5;241m6\u001b[39m)\n",
      "\u001b[0;31mTypeError\u001b[0m: fun1() missing 1 required keyword-only argument: 'c'"
     ]
    }
   ],
   "source": [
    "fun1(1,2,3,x = 4, y = 5, n = 6)"
   ]
  },
  {
   "cell_type": "markdown",
   "id": "e7cb6852-1acf-4ec8-add4-83bfb131956c",
   "metadata": {},
   "source": [
    "### 5.嵌套函数与函数闭包\n",
    "* 函数闭包：内部定义了一个函数，然后把**该函数**作为返回值"
   ]
  },
  {
   "cell_type": "code",
   "execution_count": 125,
   "id": "625fed52-d000-468d-a442-fe7b6ae56a16",
   "metadata": {},
   "outputs": [
    {
     "name": "stdout",
     "output_type": "stream",
     "text": [
      "11\n"
     ]
    }
   ],
   "source": [
    "def fo(par = 0):\n",
    "    i = par + 1 # 内部参数\n",
    "    def fi(x = 0): # 函数定义外部不可见\n",
    "        return x + i\n",
    "    return fi() # 返回def的返回值，严格来说不是函数闭包（不重要）\n",
    "    \n",
    "f = fo(10)\n",
    "print(f)"
   ]
  },
  {
   "cell_type": "code",
   "execution_count": 126,
   "id": "f58d6f9d-0ba4-4d45-8140-494574321bb2",
   "metadata": {},
   "outputs": [
    {
     "name": "stdout",
     "output_type": "stream",
     "text": [
      "<function fo.<locals>.fi at 0x104573560>\n",
      "11\n"
     ]
    }
   ],
   "source": [
    "def fo(par = 0):\n",
    "    i = par + 1 # 内部参数\n",
    "    def fi(x = 0): # 函数定义外部不可见\n",
    "        return x + i\n",
    "    return fi # 返回一个函数实例，是函数闭包\n",
    "\n",
    "f = fo(10)\n",
    "print(f)\n",
    "print(f())"
   ]
  },
  {
   "cell_type": "code",
   "execution_count": 150,
   "id": "0dabee50-9f2f-44f3-8585-549af198b6ae",
   "metadata": {},
   "outputs": [
    {
     "name": "stdout",
     "output_type": "stream",
     "text": [
      "<function print_msg.<locals>.printer at 0x10679d120> <function print_msg.<locals>.printer at 0x10679ce00>\n"
     ]
    }
   ],
   "source": [
    "def print_msg(msg):\n",
    "    hi = 'Hi, '\n",
    "    def printer():\n",
    "        print(hi + msg) #引用了外层函数的参数msg\n",
    "    return printer #返回一个函数实例，是函数闭包\n",
    "\n",
    "f1 = print_msg(\"LiuPeiyu! \")\n",
    "f2 = print_msg(\"Destiny! \")\n",
    "print(f1,f2)"
   ]
  },
  {
   "cell_type": "code",
   "execution_count": 151,
   "id": "d81fb0f3-cb48-4cbf-8187-97d737c851f1",
   "metadata": {},
   "outputs": [
    {
     "name": "stdout",
     "output_type": "stream",
     "text": [
      "Hi, LiuPeiyu! \n",
      "Hi, Destiny! \n",
      "4403613984 4403613184\n"
     ]
    }
   ],
   "source": [
    "f1()\n",
    "f2()\n",
    "print(id(f1), id(f2))\n",
    "# 两个函数对象"
   ]
  },
  {
   "cell_type": "markdown",
   "id": "604b5f94-1445-4155-8cee-844f8d36b336",
   "metadata": {},
   "source": [
    "#### 变量的作用域\n",
    "* 引用变量的顺序：当前作用域局部变量 > 外层作用域变量 > 当前模块中的全局变量 > python内置变量\n",
    "* **global**关键字可以用在任何地方，包括最上层函数和嵌套函数中，**即使之前未定义该变量**,global修饰后也可以直接使用\n",
    "* **nonlocal**关键字只能用于嵌套函数中，并且要求**在外层函数中定义了相应的局部变量**"
   ]
  },
  {
   "cell_type": "code",
   "execution_count": 138,
   "id": "61229471-f5f7-427d-89fb-6b5bce34f676",
   "metadata": {},
   "outputs": [
    {
     "name": "stdout",
     "output_type": "stream",
     "text": [
      "After local assignment:  test variable\n",
      "After nonlocal assignment:  No.2: nonlocal\n",
      "After global assignment:  No.2: nonlocal\n",
      "In global scope:  No.3: global\n"
     ]
    }
   ],
   "source": [
    "def scope_test():\n",
    "    def do_local():\n",
    "        variable = \"No.1: local\" # 缺省默认为local\n",
    "    def do_nonlocal():\n",
    "        nonlocal variable # nonlocal指明在内层函数中引用的是外部函数的变量\n",
    "        variable = \"No.2: nonlocal\" # \"test variable\"->\"No.2: nonlocal\"\n",
    "    def do_global():\n",
    "        global variable \n",
    "        variable = \"No.3: global\"\n",
    "    variable = \"test variable\" #必须有声明，否则nonlocal错误\n",
    "    do_local()\n",
    "    print(\"After local assignment: \", variable) # 当前作用域局部变量 \"test variable\"\n",
    "    do_nonlocal()\n",
    "    print(\"After nonlocal assignment: \", variable) # 当前作用域局部变量 \"No.2: nonlocal\"\n",
    "    do_global()\n",
    "    print(\"After global assignment: \", variable) # 当前作用域局部变量 \"No.2: nonlocal\"\n",
    "\n",
    "scope_test()\n",
    "print(\"In global scope: \", variable) #当前模块中的全局变量 \"No.3: global\""
   ]
  },
  {
   "cell_type": "markdown",
   "id": "ae6866bf-2224-42b3-b856-f3b013153604",
   "metadata": {},
   "source": [
    "#### 在.__closure__属性中保存环境"
   ]
  },
  {
   "cell_type": "code",
   "execution_count": 157,
   "id": "7618b000-597e-43ab-b778-90f00b382d6e",
   "metadata": {},
   "outputs": [
    {
     "name": "stdout",
     "output_type": "stream",
     "text": [
      "<function print_msg.<locals>.printer at 0x1067c42c0> <function print_msg.<locals>.printer at 0x1067c6660>\n"
     ]
    }
   ],
   "source": [
    "import pickle\n",
    "def print_msg(msg):\n",
    "    hi = 'Hi, '\n",
    "    def printer(x):\n",
    "        nonlocal hi\n",
    "        hi += msg #利用hi保存环境\n",
    "        print(hi + x)\n",
    "    return printer #返回一个函数实例，是函数闭包\n",
    "\n",
    "f1 = print_msg(\"LiuPeiyu! \")\n",
    "f2 = print_msg(\"Destiny! \")\n",
    "print(f1,f2)"
   ]
  },
  {
   "cell_type": "code",
   "execution_count": 158,
   "id": "2a91d626-b7c7-43e7-b269-cbd8847236be",
   "metadata": {},
   "outputs": [
    {
     "name": "stdout",
     "output_type": "stream",
     "text": [
      "Hi, LiuPeiyu! Have a nice day!\n",
      "Hi, Destiny! Good luck!\n"
     ]
    }
   ],
   "source": [
    "f1('Have a nice day!')\n",
    "f2('Good luck!')"
   ]
  },
  {
   "cell_type": "code",
   "execution_count": 159,
   "id": "f98ab452-15cb-4ef7-8845-70a16be58384",
   "metadata": {},
   "outputs": [
    {
     "name": "stdout",
     "output_type": "stream",
     "text": [
      "Hi, LiuPeiyu! LiuPeiyu! sir\n",
      "Hi, Destiny! Destiny! madam\n"
     ]
    }
   ],
   "source": [
    "f1('sir')\n",
    "f2('madam')"
   ]
  },
  {
   "cell_type": "code",
   "execution_count": 161,
   "id": "ff39bf31-8e5d-487b-b1b2-5f0d416bbfca",
   "metadata": {},
   "outputs": [
    {
     "name": "stdout",
     "output_type": "stream",
     "text": [
      "Hi, LiuPeiyu! LiuPeiyu! \n",
      "LiuPeiyu! \n",
      "Hi, Destiny! Destiny! \n"
     ]
    }
   ],
   "source": [
    "print(f1.__closure__[0].cell_contents)\n",
    "print(f1.__closure__[1].cell_contents)\n",
    "print(f2.__closure__[0].cell_contents)"
   ]
  },
  {
   "cell_type": "markdown",
   "id": "8812b29a-dd71-4035-9bb6-785a4bcea60a",
   "metadata": {},
   "source": [
    "### 6.函数装饰器\n",
    "* 一般用于抽取**共性操作**作为功能切片，对一类函数进行包装"
   ]
  },
  {
   "cell_type": "markdown",
   "id": "ea5592b8-46cd-4acf-9db5-47f091646b45",
   "metadata": {},
   "source": [
    "#### 利用函数闭包实现类似函数模版的功能"
   ]
  },
  {
   "cell_type": "code",
   "execution_count": 164,
   "id": "14d333fb-7348-464e-b8fd-e7b37e5af245",
   "metadata": {},
   "outputs": [
    {
     "name": "stdout",
     "output_type": "stream",
     "text": [
      "3\n",
      "1\n"
     ]
    }
   ],
   "source": [
    "def inc(x):\n",
    "    return x + 1\n",
    "\n",
    "def dec(x):\n",
    "    return x - 1\n",
    "\n",
    "def make_operate_of(func): # 输入一个函数\n",
    "    def operate(x):\n",
    "        return func(x)\n",
    "    return operate\n",
    "\n",
    "addone = make_operate_of(inc)\n",
    "minusone = make_operate_of(dec)\n",
    "\n",
    "print(addone(2))\n",
    "print(minusone(2))"
   ]
  },
  {
   "cell_type": "code",
   "execution_count": 165,
   "id": "669fa68f-cedd-40bf-b639-a3cef71032b8",
   "metadata": {},
   "outputs": [
    {
     "name": "stdout",
     "output_type": "stream",
     "text": [
      "我要装修一间房子\n",
      "我要装修一间教室\n"
     ]
    }
   ],
   "source": [
    "def decorator(func):\n",
    "    def dechouse():\n",
    "        print(\"我要装修一间\", end = '') # end替换换行符\n",
    "        func()\n",
    "    return dechouse\n",
    "\n",
    "def house():\n",
    "    print(\"房子\")\n",
    "\n",
    "def classroom():\n",
    "    print(\"教室\")\n",
    "\n",
    "newhouse = decorator(house)\n",
    "newclassroom = decorator(classroom)\n",
    "newhouse()\n",
    "newclassroom()"
   ]
  },
  {
   "cell_type": "code",
   "execution_count": 167,
   "id": "e39718fa-f802-4c81-8c34-668f7e9c4b03",
   "metadata": {},
   "outputs": [
    {
     "name": "stdout",
     "output_type": "stream",
     "text": [
      "我要装修一间办公室\n"
     ]
    }
   ],
   "source": [
    "@decorator # @加装饰器函数名放在函数定义前，表明定义一个装饰后的函数实例\n",
    "def officeroom():\n",
    "    print(\"办公室\")\n",
    "\n",
    "officeroom()"
   ]
  },
  {
   "cell_type": "markdown",
   "id": "58b4a3a6-fec5-4041-9b35-856b0ce50743",
   "metadata": {},
   "source": [
    "#### 装饰器的装饰器（对装饰器进行定制）"
   ]
  },
  {
   "cell_type": "code",
   "execution_count": 168,
   "id": "e4dffc56-f0a5-4805-9589-14b8cd6bd1d1",
   "metadata": {},
   "outputs": [
    {
     "name": "stdout",
     "output_type": "stream",
     "text": [
      "喂！我要装修一间房子\n",
      "嘿！我要装修一间教室\n"
     ]
    }
   ],
   "source": [
    "def specify(req):\n",
    "    def decorator(func):\n",
    "        def dechouse():\n",
    "            print(req + \"我要装修一间\", end = '') # end替换换行符\n",
    "            func()\n",
    "        return dechouse\n",
    "    return decorator\n",
    "\n",
    "@specify('喂！')\n",
    "def house():\n",
    "    print(\"房子\")\n",
    "\n",
    "@specify('嘿！')\n",
    "def classroom():\n",
    "    print(\"教室\")\n",
    "\n",
    "house()\n",
    "classroom()"
   ]
  },
  {
   "cell_type": "markdown",
   "id": "b00aac11-13b3-4d0d-ae9a-30512845d025",
   "metadata": {},
   "source": [
    "#### 装饰器的嵌套"
   ]
  },
  {
   "cell_type": "code",
   "execution_count": 169,
   "id": "bacaea2b-d8b9-4c4a-971d-1c9e03630416",
   "metadata": {},
   "outputs": [
    {
     "name": "stdout",
     "output_type": "stream",
     "text": [
      "******************************\n",
      "%%%%%%%%%%%%%%%%%%%%%%%%%%%%%%\n",
      "Hello, world!\n",
      "%%%%%%%%%%%%%%%%%%%%%%%%%%%%%%\n",
      "******************************\n"
     ]
    }
   ],
   "source": [
    "def star(func):\n",
    "    def inner(*args):\n",
    "        print('*' * 30) # 重复30次\n",
    "        func(*args)\n",
    "        print('*' * 30)\n",
    "    return inner\n",
    "\n",
    "def percent(func):\n",
    "    def inner(*args):\n",
    "        print('%' * 30) # 重复30次\n",
    "        func(*args)\n",
    "        print('%' * 30)\n",
    "    return inner\n",
    "\n",
    "@star\n",
    "@percent # 较下层对应的是更内层\n",
    "def printer(msg):\n",
    "    print(msg)\n",
    "\n",
    "printer(\"Hello, world!\")"
   ]
  },
  {
   "cell_type": "markdown",
   "id": "5a7658e3-e04a-4a89-8970-0652fb3d33c5",
   "metadata": {},
   "source": [
    "#### 装饰器实现记忆化存储\n",
    "* 装饰器下的所有实例共享自身的外部环境"
   ]
  },
  {
   "cell_type": "code",
   "execution_count": 180,
   "id": "36a0642a-bb07-4792-8f49-2a7729b0f40c",
   "metadata": {},
   "outputs": [
    {
     "name": "stdout",
     "output_type": "stream",
     "text": [
      "Memory Hit!\n",
      "Memory Miss!\n",
      "120\n",
      "0.00020503997802734375\n",
      "Memory Hit!\n",
      "120\n",
      "8.20159912109375e-05\n"
     ]
    }
   ],
   "source": [
    "import time\n",
    "def memorize_factorial(f):\n",
    "    memory = {} #所有被装饰的函数实例共享一个公共缓存，注意与单纯的函数闭包的区别\n",
    "    def inner(num):\n",
    "        if num not in memory:\n",
    "            memory[num] = f(num)\n",
    "            print(\"Memory Miss!\")\n",
    "        else:\n",
    "            print(\"Memory Hit!\")\n",
    "        return memory[num]\n",
    "    return inner\n",
    "\n",
    "@memorize_factorial\n",
    "def factor1(num):\n",
    "    if num == 1:\n",
    "        return 1\n",
    "    else:\n",
    "        return num * factor(num-1)\n",
    "\n",
    "@memorize_factorial\n",
    "def factor2(num):\n",
    "    if num == 1:\n",
    "        return 1\n",
    "    else:\n",
    "        return num * factor(num-1)\n",
    "\n",
    "start = time.time()\n",
    "print(factor1(5))\n",
    "end = time.time()\n",
    "print(end - start)\n",
    "\n",
    "start = time.time()\n",
    "print(factor1(5))\n",
    "end = time.time()\n",
    "print(end - start)"
   ]
  },
  {
   "cell_type": "code",
   "execution_count": null,
   "id": "f980ec2c-e060-4a97-8672-b398e03088de",
   "metadata": {},
   "outputs": [],
   "source": []
  }
 ],
 "metadata": {
  "kernelspec": {
   "display_name": "Python 3 (ipykernel)",
   "language": "python",
   "name": "python3"
  },
  "language_info": {
   "codemirror_mode": {
    "name": "ipython",
    "version": 3
   },
   "file_extension": ".py",
   "mimetype": "text/x-python",
   "name": "python",
   "nbconvert_exporter": "python",
   "pygments_lexer": "ipython3",
   "version": "3.11.5"
  }
 },
 "nbformat": 4,
 "nbformat_minor": 5
}
