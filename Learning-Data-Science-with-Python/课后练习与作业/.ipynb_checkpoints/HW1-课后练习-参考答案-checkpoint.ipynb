{
 "cells": [
  {
   "cell_type": "markdown",
   "metadata": {},
   "source": [
    "# HW1-课后练习"
   ]
  },
  {
   "cell_type": "markdown",
   "metadata": {},
   "source": [
    "<span style=\"color:red; font-weight:bold;\">此次作业是课后练习，供大家熟练课堂上讲授的知识点，不计入任何分数。</span>\n",
    "\n",
    "<span style=\"color:red; font-weight:bold;\">请将作业命名为 HW1-课后练习+姓名+学号.ipynb, 例如 HW1-课后练习+张三+1000000000.ipynb</span>"
   ]
  },
  {
   "cell_type": "markdown",
   "metadata": {},
   "source": [
    "## 一、Python的基础数据类型与表达式"
   ]
  },
  {
   "cell_type": "markdown",
   "metadata": {},
   "source": [
    "### 1. 类型、分支流程与输入输出\n",
    "```\n",
    "实现一个单汇率货币转换器，输入为美元，输出为人民币。\n",
    "汇率表：\n",
    "1美元 = 7.1985人民币\n",
    "```"
   ]
  },
  {
   "cell_type": "code",
   "execution_count": 1,
   "metadata": {},
   "outputs": [
    {
     "name": "stdout",
     "output_type": "stream",
     "text": [
      "人民币金额： 719.85\n"
     ]
    }
   ],
   "source": [
    "USD = float(input(\"请输入金额：\"))\n",
    "RMB = 7.1985*USD\n",
    "print(\"人民币金额：\", RMB)"
   ]
  },
  {
   "cell_type": "markdown",
   "metadata": {},
   "source": [
    "### 2. 条件表达式，分支流程\n",
    "```\n",
    "实现一个多汇率货币转换器，输入为美元(USD)，欧元(EUR)，日元(JPY)，输出为人民币(RMB)。\n",
    "汇率表：\n",
    "1美元 = 7.1985人民币\n",
    "1欧元 = 7.7544人民币\n",
    "1日元 = 0.0479人民币\n",
    "```"
   ]
  },
  {
   "cell_type": "code",
   "execution_count": 2,
   "metadata": {},
   "outputs": [],
   "source": [
    "def convert_currency(TYPE, RMB):\n",
    "    if TYPE == \"USD\":\n",
    "        return RMB*7.1985\n",
    "    elif TYPE == \"EUR\":\n",
    "        return RMB*7.7544\n",
    "    elif TYPE == \"JPY\":\n",
    "        return RMB*0.0479\n",
    "\n",
    "assert convert_currency(\"USD\", 100) == 719.85\n",
    "assert convert_currency(\"EUR\", 100) == 775.44\n",
    "assert convert_currency(\"JPY\", 100) == 4.79"
   ]
  },
  {
   "cell_type": "markdown",
   "metadata": {},
   "source": [
    "### 3. 字符串处理\n",
    "``` \n",
    "实现一个字符串处理函数，将输入的字符串转换为大写，然后将其中从第n个字符以及之后的所有' '替换为字符'_'。\n",
    "```"
   ]
  },
  {
   "cell_type": "code",
   "execution_count": 3,
   "metadata": {},
   "outputs": [],
   "source": [
    "def process_string(s, n):\n",
    "    s = s.upper()\n",
    "    s = s[:n] + s[n:].replace(' ', '_')\n",
    "    return s\n",
    "\n",
    "\n",
    "assert process_string('You are right, but \"Genshin Impact\" is a brand new open-world adventure game independently developed by miHoYo.', 20) \\\n",
    "    == 'YOU ARE RIGHT, BUT \"GENSHIN_IMPACT\"_IS_A_BRAND_NEW_OPEN-WORLD_ADVENTURE_GAME_INDEPENDENTLY_DEVELOPED_BY_MIHOYO.'\n"
   ]
  },
  {
   "cell_type": "markdown",
   "metadata": {},
   "source": [
    "## 二、Python的序列类型与顺序计算流程"
   ]
  },
  {
   "cell_type": "markdown",
   "metadata": {},
   "source": [
    "### 1. list, tuple基本操作\n",
    "```\n",
    "实现一个简单的计算已选课程的学分之和的函数：\n",
    "1. 课程信息存储在一个列表中，列表中的每个元素是一个元组，元组的第一个元素是课程名，第二个元素是课程的学分。\n",
    "2. 学生可以选择课程，选择的课程存储在一个列表中。\n",
    "3. 函数可以计算已选课程的学分之和。\n",
    "```\n"
   ]
  },
  {
   "cell_type": "code",
   "execution_count": 4,
   "metadata": {},
   "outputs": [],
   "source": [
    "def calculate_total(Courses, Selected):\n",
    "    Total = 0\n",
    "    for course in Courses:\n",
    "        if course[0] in Selected:\n",
    "            Total += course[1]\n",
    "    return Total\n",
    "\n",
    "Courses = [('三宝', 2), ('音数', 2), ('地概', 2), ('高数', 4), ('线代', 3), ('棒垒', 1)]\n",
    "Selected = ['三宝', '高数', '线代']\n",
    "assert calculate_total(Courses, Selected) == 9"
   ]
  },
  {
   "cell_type": "markdown",
   "metadata": {},
   "source": [
    "### 2. list生成、查找\n",
    "```\n",
    "生成一个包含1~n中所有整数的列表，扔掉其中所有被m整除的数，判断2*x+1是该列表中的第几个奇数。(我们假设2*x+1一定存在于列表中)\n",
    "```"
   ]
  },
  {
   "cell_type": "code",
   "execution_count": 5,
   "metadata": {},
   "outputs": [],
   "source": [
    "def find_position(n, m, x):\n",
    "    num_list = [num for num in range(1, n+1) if (num % m != 0 and num%2!=0)]\n",
    "    return num_list.index(2*x+1) + 1\n",
    "\n",
    "assert find_position(50, 3, 5) == 4"
   ]
  },
  {
   "cell_type": "markdown",
   "metadata": {},
   "source": [
    "### 3. list, dict基本操作\n",
    "```\n",
    "进行英文单词的词频统计，输入一个字符串，不区分大小写，不计标点符号(我们假设只会出现'.' ','两种标点)，输出一个字典，字典的键是每个不同的英文单词，值是单词的词频。\n",
    "```"
   ]
  },
  {
   "cell_type": "code",
   "execution_count": 6,
   "metadata": {},
   "outputs": [],
   "source": [
    "def word_frequency(s):\n",
    "    s = s.lower()\n",
    "    s = s.replace('.', '')\n",
    "    s = s.replace(',', '')\n",
    "\n",
    "    words = s.split(' ')\n",
    "    word_freq = {word: words.count(word) for word in words}\n",
    "\n",
    "    return word_freq\n",
    "\n",
    "s = \"\"\"You are right, but Genshin Impact is a brand new open world adventure game developed independently by miHoYo. The game takes place in a fantasy world called Teyvat, where individuals chosen by the gods are granted the Vision, guiding the power of elements. You will play as a mysterious character known as the Traveler, encountering companions with diverse personalities and unique abilities during your free travels. Together, you will defeat formidable enemies, reunite with lost relatives, and gradually uncover the truth behind Genshin.\"\"\"\n",
    "word_freq = word_frequency(s)\n",
    "\n",
    "# 对dict的value做降序排序\n",
    "word_freq = dict(sorted(word_freq.items(), key=lambda item: item[1], reverse=True))\n",
    "\n",
    "assert 'a' in word_freq\n",
    "assert word_freq['a'] == 3\n",
    "assert ',' not in word_freq and '.' not in word_freq"
   ]
  },
  {
   "cell_type": "markdown",
   "metadata": {},
   "source": [
    "## 三、列表生成式与迭代器"
   ]
  },
  {
   "cell_type": "markdown",
   "metadata": {},
   "source": [
    "### 0.运行并观察以下几个例子，理解迭代器的基本用法"
   ]
  },
  {
   "cell_type": "code",
   "execution_count": 7,
   "metadata": {},
   "outputs": [
    {
     "name": "stdout",
     "output_type": "stream",
     "text": [
      "apple\n",
      "banana\n",
      "cherry\n"
     ]
    },
    {
     "ename": "StopIteration",
     "evalue": "",
     "output_type": "error",
     "traceback": [
      "\u001b[1;31m---------------------------------------------------------------------------\u001b[0m",
      "\u001b[1;31mStopIteration\u001b[0m                             Traceback (most recent call last)",
      "Cell \u001b[1;32mIn[7], line 8\u001b[0m\n\u001b[0;32m      6\u001b[0m \u001b[38;5;28mprint\u001b[39m(\u001b[38;5;28mnext\u001b[39m(myit))\n\u001b[0;32m      7\u001b[0m \u001b[38;5;66;03m# 迭代器本身是一次性的\u001b[39;00m\n\u001b[1;32m----> 8\u001b[0m \u001b[38;5;28mprint\u001b[39m(\u001b[38;5;28mnext\u001b[39m(myit))\n",
      "\u001b[1;31mStopIteration\u001b[0m: "
     ]
    }
   ],
   "source": [
    "mytuple = (\"apple\", \"banana\", \"cherry\")\n",
    "myit = iter(mytuple)\n",
    "\n",
    "print(next(myit))\n",
    "print(next(myit))\n",
    "print(next(myit))\n",
    "# 迭代器本身是一次性的\n",
    "print(next(myit))"
   ]
  },
  {
   "cell_type": "code",
   "execution_count": 8,
   "metadata": {},
   "outputs": [
    {
     "name": "stdout",
     "output_type": "stream",
     "text": [
      "apple green\n",
      "banana yellow\n",
      "cherry red\n"
     ]
    }
   ],
   "source": [
    "mydict = {\"apple\": \"green\", \"banana\": \"yellow\", \"cherry\": \"red\"}\n",
    "for k,v in mydict.items():\n",
    "    print(k,v)"
   ]
  },
  {
   "cell_type": "code",
   "execution_count": 9,
   "metadata": {},
   "outputs": [
    {
     "name": "stdout",
     "output_type": "stream",
     "text": [
      "apple green\n",
      "banana yellow\n",
      "cherry red\n"
     ]
    }
   ],
   "source": [
    "mydict = {\"apple\": \"green\", \"banana\": \"yellow\", \"cherry\": \"red\"}\n",
    "myiter = iter(mydict)\n",
    "while True:\n",
    "    try:\n",
    "        k = next(myiter)\n",
    "        print(k, mydict[k])\n",
    "    except StopIteration:\n",
    "        break\n",
    "# 思考：迭代器和容器的区别?"
   ]
  },
  {
   "cell_type": "markdown",
   "metadata": {},
   "source": [
    "### 1. 迭代器使用\n",
    "```\n",
    "在一个随机生成的包含100个10以内的数字的列表中，使用迭代器的方式输出首次出现的1之后的两个数字\n",
    "```"
   ]
  },
  {
   "cell_type": "code",
   "execution_count": 10,
   "metadata": {},
   "outputs": [],
   "source": [
    "import random\n",
    "random.seed(42)\n",
    "l=[random.randint(0,10) for _ in range(100)]\n",
    "def output(l):\n",
    "    l=iter(l)\n",
    "    while(next(l)!=1):\n",
    "        pass\n",
    "    return next(l), next(l)\n",
    "\n",
    "assert output(l) == (0, 4)"
   ]
  },
  {
   "cell_type": "markdown",
   "metadata": {},
   "source": [
    "### 2. 列表生成式"
   ]
  },
  {
   "cell_type": "markdown",
   "metadata": {},
   "source": [
    "#### 2.1 使用列表生成式生成一个包含1~n中所有被m整除的数的列表。"
   ]
  },
  {
   "cell_type": "code",
   "execution_count": 11,
   "metadata": {},
   "outputs": [],
   "source": [
    "n = 50\n",
    "m = 3\n",
    "generated_list = [num for num in range(1, n+1) if num % m == 0]\n",
    "\n",
    "assert generated_list == [3, 6, 9, 12, 15, 18, 21, 24, 27, 30, 33, 36, 39, 42, 45, 48]"
   ]
  },
  {
   "cell_type": "markdown",
   "metadata": {},
   "source": [
    "#### 2.2 使用列表生成式，从包含多个句子的文本中，找出所有单词数大于5的句子。"
   ]
  },
  {
   "cell_type": "code",
   "execution_count": 12,
   "metadata": {},
   "outputs": [],
   "source": [
    "text = \"This is a sample text. With several sentences. Some sentences are longer than others. We want to extract sentences with more than five words.\"\n",
    "\n",
    "selected_sentences = [sentence.strip() for sentence in text.split(\".\") if len(sentence.split()) > 5]\n",
    "\n",
    "assert selected_sentences == ['Some sentences are longer than others', 'We want to extract sentences with more than five words']\n"
   ]
  },
  {
   "cell_type": "markdown",
   "metadata": {},
   "source": [
    "#### 2.3 使用列表生成式，从一个包含多个人的字典列表中，生成一个包含所有年龄大于等于18岁的姓名列表。"
   ]
  },
  {
   "cell_type": "code",
   "execution_count": 13,
   "metadata": {},
   "outputs": [],
   "source": [
    "people = [\n",
    "    {\"name\": \"Alice\", \"age\": 25},\n",
    "    {\"name\": \"Bob\", \"age\": 17},\n",
    "    {\"name\": \"Charlie\", \"age\": 30},\n",
    "    {\"name\": \"David\", \"age\": 16}\n",
    "]\n",
    "adult_names =  [person[\"name\"] for person in people if person[\"age\"] >= 18]\n",
    "\n",
    "assert adult_names == ['Alice', 'Charlie']\n"
   ]
  },
  {
   "cell_type": "markdown",
   "metadata": {},
   "source": [
    "#### 2.4 使用列表生成式，生成一个包含所有(1, 1)到(3, 3)之间的整数坐标点的集合。"
   ]
  },
  {
   "cell_type": "code",
   "execution_count": 14,
   "metadata": {},
   "outputs": [],
   "source": [
    "coordinates = set([(x, y) for x in range(1, 4) for y in range(1, 4)])\n",
    "assert coordinates == set([(1, 1), (1, 2), (1, 3), (2, 1), (2, 2), (2, 3), (3, 1), (3, 2), (3, 3)])"
   ]
  },
  {
   "cell_type": "markdown",
   "metadata": {},
   "source": [
    "#### 2.5 使用列表生成式与zip方法，生成两个列表相同位置的元素的乘积。"
   ]
  },
  {
   "cell_type": "code",
   "execution_count": 15,
   "metadata": {},
   "outputs": [],
   "source": [
    "list1 = [2, 3, 4, 5]\n",
    "list2 = ['hello', 'world', 'python', 'programming']\n",
    "\n",
    "product = [x * y for x, y in zip(list1, list2)]\n",
    "assert product == ['hellohello',\n",
    "                    'worldworldworld',\n",
    "                    'pythonpythonpythonpython',\n",
    "                    'programmingprogrammingprogrammingprogrammingprogramming']"
   ]
  }
 ],
 "metadata": {
  "kernelspec": {
   "display_name": "kaggle_op",
   "language": "python",
   "name": "python3"
  },
  "language_info": {
   "codemirror_mode": {
    "name": "ipython",
    "version": 3
   },
   "file_extension": ".py",
   "mimetype": "text/x-python",
   "name": "python",
   "nbconvert_exporter": "python",
   "pygments_lexer": "ipython3",
   "version": "3.11.5"
  }
 },
 "nbformat": 4,
 "nbformat_minor": 2
}
