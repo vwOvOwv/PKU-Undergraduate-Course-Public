{
 "cells": [
  {
   "cell_type": "markdown",
   "metadata": {},
   "source": [
    "# 第四次课后练习"
   ]
  },
  {
   "cell_type": "markdown",
   "metadata": {},
   "source": [
    "<span style=\"color:red; font-weight:bold;\">此次作业是课后练习，供大家熟练课堂上讲授的基础知识点，不计入任何分数。</span>\n",
    "\n",
    "<span style=\"color:red; font-weight:bold;\">请将作业命名为 HW4-课后练习+姓名+学号.ipynb</span>\n",
    "\n",
    "<span style=\"color:red; font-weight:bold;\">提交时仅提交ipynb文件即可, 无需提交其他py文件</span>"
   ]
  },
  {
   "cell_type": "markdown",
   "metadata": {},
   "source": [
    "## 一、设计模式"
   ]
  },
  {
   "cell_type": "markdown",
   "metadata": {},
   "source": [
    "本部分内容为课上所讲的几种设计模式的最简单的一些实现方式与使用场景\n",
    "\n",
    "相较于这些设计模式如何通过代码实现，在面向对象设计和系统分析时，更重要的一点是决定在哪些情况下更适合使用哪几种设计模式。因此，在填写代码之余，同学们也可以尝试思考，课上所讲的这几种设计模式有哪些实际应用场景"
   ]
  },
  {
   "cell_type": "markdown",
   "metadata": {},
   "source": [
    "### 1.1 单例模式"
   ]
  },
  {
   "cell_type": "markdown",
   "metadata": {},
   "source": [
    "本部分无需额外填写代码，能够阅读并理解单例模式的几种实现方式即可。方法三通过[元类](https://docs.python.org/3/reference/datamodel.html#metaclasses)的实现方法为课外补充内容，不要求掌握。"
   ]
  },
  {
   "cell_type": "code",
   "execution_count": 1,
   "metadata": {},
   "outputs": [
    {
     "name": "stdout",
     "output_type": "stream",
     "text": [
      "====第一次创建====\n",
      "类<class '__main__.Singleton1'>目前没有实例\n",
      "已创建类<class '__main__.Singleton1'>的实例\n",
      "\n",
      "====第二次创建====\n",
      "类<class '__main__.Singleton1'>已经有实例，不再创建\n"
     ]
    }
   ],
   "source": [
    "# 方法一：重写类的__new__方法\n",
    "class Singleton1:\n",
    "    _instance = None\n",
    "\n",
    "    def __new__(cls):\n",
    "        if not cls._instance:\n",
    "            print(f'类{cls}目前没有实例')\n",
    "            cls._instance = super(Singleton1, cls).__new__(cls)\n",
    "            print(f'已创建类{cls}的实例')\n",
    "        else:\n",
    "            print(f'类{cls}已经有实例，不再创建')\n",
    "        return cls._instance\n",
    "\n",
    "print('====第一次创建====')\n",
    "obj1 = Singleton1()\n",
    "print()\n",
    "\n",
    "print('====第二次创建====')\n",
    "obj2 = Singleton1()\n",
    "\n",
    "assert obj1 is obj2"
   ]
  },
  {
   "cell_type": "code",
   "execution_count": 2,
   "metadata": {},
   "outputs": [
    {
     "name": "stdout",
     "output_type": "stream",
     "text": [
      "<class 'function'>\n",
      "\n",
      "====第一次创建SingletonTest1====\n",
      "类<class '__main__.SingletonTest1'>目前没有实例\n",
      "当前字典内容为: {}\n",
      "已创建类<class '__main__.SingletonTest1'>的实例\n",
      "当前字典内容为: {<class '__main__.SingletonTest1'>: <__main__.SingletonTest1 object at 0x0000019938159E08>}\n",
      "obj1的name属性值: Test1-1\n",
      "\n",
      "====第二次创建SingletonTest1====\n",
      "类<class '__main__.SingletonTest1'>已经有实例，不再创建\n",
      "当前字典内容为: {<class '__main__.SingletonTest1'>: <__main__.SingletonTest1 object at 0x0000019938159E08>}\n",
      "obj2的name属性值: Test1-1\n",
      "\n",
      "====第一次创建SingletonTest2====\n",
      "类<class '__main__.SingletonTest2'>目前没有实例\n",
      "当前字典内容为: {<class '__main__.SingletonTest1'>: <__main__.SingletonTest1 object at 0x0000019938159E08>}\n",
      "已创建类<class '__main__.SingletonTest2'>的实例\n",
      "当前字典内容为: {<class '__main__.SingletonTest1'>: <__main__.SingletonTest1 object at 0x0000019938159E08>, <class '__main__.SingletonTest2'>: <__main__.SingletonTest2 object at 0x0000019938159E48>}\n",
      "obj3的name属性值: Test2-1\n"
     ]
    }
   ],
   "source": [
    "# 方法二：使用装饰器与一个类-实例字典\n",
    "instance = {}\n",
    "def Singleton2(cls):\n",
    "    def _singleton_wrapper(*args, **kargs):\n",
    "        if cls not in instance:\n",
    "            print(f'类{cls}目前没有实例')\n",
    "            print(f'当前字典内容为: {instance}')\n",
    "            instance[cls] = cls(*args, **kargs)\n",
    "            print(f'已创建类{cls}的实例')\n",
    "            print(f'当前字典内容为: {instance}')\n",
    "        else:\n",
    "            print(f'类{cls}已经有实例，不再创建')\n",
    "            print(f'当前字典内容为: {instance}')\n",
    "        return instance[cls]\n",
    "\n",
    "    return _singleton_wrapper\n",
    "\n",
    "@Singleton2\n",
    "class SingletonTest1(object):\n",
    "    def __init__(self, name):\n",
    "        self.name = name\n",
    "\n",
    "@Singleton2\n",
    "class SingletonTest2(object):\n",
    "    def __init__(self, name):\n",
    "        self.name = name\n",
    "\n",
    "# 装饰器的作用可以这样理解：\n",
    "# 装饰器Singleton2是一个函数，它接受一个类cls，返回一个函数_singleton_wrapper\n",
    "# 接着，我们定义一个类SingletonTest2\n",
    "# 当我们用装饰器Singleton2修饰类SingletonTest2时，相当于执行如下语句\n",
    "# SingletonTest2 = Singleton2(SingletonTest2)\n",
    "# 因此，当我们打印SingletonTest2的类型时，会发现它是一个函数(function)，而非一个类(type)\n",
    "print(type(SingletonTest2))\n",
    "print()\n",
    "\n",
    "print('====第一次创建SingletonTest1====')\n",
    "obj1 = SingletonTest1('Test1-1')\n",
    "print(f'obj1的name属性值: {obj1.name}')\n",
    "print()\n",
    "\n",
    "print('====第二次创建SingletonTest1====')\n",
    "obj2 = SingletonTest1('Test1-2')\n",
    "print(f'obj2的name属性值: {obj2.name}')\n",
    "print()\n",
    "\n",
    "assert obj1 is obj2\n",
    "\n",
    "print('====第一次创建SingletonTest2====')\n",
    "obj3 = SingletonTest2('Test2-1')\n",
    "print(f'obj3的name属性值: {obj3.name}')"
   ]
  },
  {
   "cell_type": "code",
   "execution_count": 3,
   "metadata": {},
   "outputs": [
    {
     "name": "stdout",
     "output_type": "stream",
     "text": [
      "1\n",
      "1\n"
     ]
    }
   ],
   "source": [
    "# 方法三：使用元类实现\n",
    "# 在Python中，type是一个元类(或者说\"类的类\")，可以用于创建一个类\n",
    "# 比如当我们定义了一个类SomeClass时，通过print(type(SomeClass))打印出的结果为<class 'type'>\n",
    "# 而type类也是可以被继承的，继承出来的类也是一个元类\n",
    "# 在定义某个类时通过指定 metaclass=... 来指定用于创建该类时所用的元类\n",
    "# 关于type和元类的一些知识：这是一篇写的比较清晰的blog\n",
    "# https://blog.csdn.net/qq_38380338/article/details/129145448\n",
    "\n",
    "# 以下是使用元类实现单例模式的方法，事实上与重写类的__new__方法有很大的相似性\n",
    "class SingletonMeta(type):\n",
    "    _instances = {}\n",
    "\n",
    "    def __call__(cls, *args, **kwargs):\n",
    "        if cls not in cls._instances:\n",
    "            instance = super().__call__(*args, **kwargs)\n",
    "            cls._instances[cls] = instance\n",
    "        return cls._instances[cls]\n",
    "\n",
    "class SingletonClass(metaclass=SingletonMeta):\n",
    "    def __init__(self, value):\n",
    "        self.value = value\n",
    "\n",
    "instance1 = SingletonClass(1)\n",
    "instance2 = SingletonClass(2)\n",
    "\n",
    "print(instance1.value) \n",
    "print(instance2.value) \n"
   ]
  },
  {
   "cell_type": "markdown",
   "metadata": {},
   "source": [
    "### 1.2 工厂模式"
   ]
  },
  {
   "cell_type": "markdown",
   "metadata": {},
   "source": [
    "工厂模式可以分为三类：简单工厂模式、工厂方法模式和抽象工厂模式（当然也有的地方将简单工厂模式看成是工厂方法模式的一种特例），同学们只需理解掌握课件上简单工厂模式的相关例子即可\n",
    "\n",
    "**Task**：补充`SimpleFactory.create_product`方法"
   ]
  },
  {
   "cell_type": "code",
   "execution_count": 3,
   "metadata": {},
   "outputs": [
    {
     "name": "stdout",
     "output_type": "stream",
     "text": [
      "Description of A\n",
      "Description of B\n"
     ]
    }
   ],
   "source": [
    "# 一个简单工厂类，这个工厂能够生产A和B两种产品\n",
    "class SimpleFactory:\n",
    "    @staticmethod\n",
    "    def create_product(product_type):\n",
    "\n",
    "        ###############################\n",
    "        #--- Your code starts here ---#\n",
    "        ###############################\n",
    "\n",
    "        # TODO: product_type是一个字符串，表示用户要求制作的产品\n",
    "        # 当product_type为\"A\"或\"Product A\"时，生产出一个ProductA对象并返回\n",
    "        # 当product_type为\"B\"或\"Product B\"时，生产出一个ProductB对象并返回\n",
    "        #       (当然，这里我们只实现最简单的情况，实际开发中通常会加上*args和**kwargs满足定制化要求)\n",
    "        # 当遇到无理取闹的甲方，给出其它的product_type时，理直气壮地抛出异常表明这个产品做不了\n",
    "        \n",
    "        pass\n",
    "        \n",
    "        ###############################\n",
    "        #---  Your code ends here  ---#\n",
    "        ###############################\n",
    "\n",
    "# 定义工厂所能生产的产品类A和B\n",
    "class ProductA:\n",
    "    def description(self):\n",
    "        return \"Description of A\"\n",
    "\n",
    "class ProductB:\n",
    "    def description(self):\n",
    "        return \"Description of B\"\n",
    "\n",
    "# 建立简单工厂\n",
    "factory = SimpleFactory()\n",
    "\n",
    "# 要求工厂生产产品A和产品B\n",
    "product_a = factory.create_product(\"A\")\n",
    "product_b = factory.create_product(\"B\")\n",
    "\n",
    "# 查看产品A和产品B的相关属性\n",
    "print(product_a.description())\n",
    "print(product_b.description())\n",
    "\n",
    "# 要求工厂生产不存在的产品C，运行以下语句时将会报错\n",
    "# product_c = factory.create_product(\"C\")\n",
    "\n",
    "# 注：课件上的例子相较于以上例子要稍微复杂一些，具体在于\n",
    "# 1. 课件上为Cat类和Dog类定义了一个抽象父类Pet，而在这里我们直接定义了ProductA和ProductB两种产品\n",
    "# 2. 课件上的StandardFactory类并不直接返回Cat/Dog类的实例，而是返回一个生产Cat/Dog类的工厂，因此：\n",
    "#       通过课件上的代码获取Cat类的实例需要三步：StandardFactory -> CatFactory -> Cat，这种写法一般用在抽象层次更高的工厂类中\n",
    "#       通过此处的代码获取ProductA的实例只需两步：SimpleFactory -> ProductA\n",
    "# 但二者的基本思想是相同的，都是根据给定的产品名让工厂去生产出相应的产品"
   ]
  },
  {
   "cell_type": "markdown",
   "metadata": {},
   "source": [
    "### 1.3 观察者模式/发布-订阅模式"
   ]
  },
  {
   "cell_type": "markdown",
   "metadata": {},
   "source": [
    "简单的来说，观察者模式就是由多位观察者(Observer)观察一个对象(Subject)，被观察对象发生了某种变化时，所有观察他的对象得到通知并被自动更新\n",
    "\n",
    "如学生-教学网可以视为一组观察者-被观察对象：某课程在教学网上**发布**（公告、作业等）时，选课同学（**订阅/观察**该课程的学生）可以收到**通知**（作业截止日期、公告内容等），所以观察者模式又称为发布-订阅模式\n",
    "\n",
    "GUI-鼠标也可以视为一组观察者-被观察对象：鼠标**发布**一个行为（点击、滚轮等）时，GUI的各个组件（可以认为是**订阅/观察**了该鼠标的行为）收到**通知**（鼠标点击的位置、左键还是右键等），并自动**更新**（如某个按钮被按下后，更新界面的显示内容）\n",
    "\n",
    "**思考**：发布-订阅模式的更多使用场景？\n",
    "\n",
    "**Task**：在下面的代码中补充`MathCourse.add_student`和`MathCourse.remove_student`函数，模拟学生选课和退课的过程"
   ]
  },
  {
   "cell_type": "code",
   "execution_count": 4,
   "metadata": {},
   "outputs": [
    {
     "name": "stdout",
     "output_type": "stream",
     "text": [
      "====选课阶段====\n",
      "ART已选课\n",
      "SCI已选课\n",
      "当前选课名单: ['ART', 'SCI']\n",
      "\n",
      "你有新的作业订单~请及时处理！\n",
      "ART: 退了退了\n",
      "SCI: 开卷！\n",
      "\n",
      "====补退选阶段====\n",
      "ART已退课\n",
      "当前选课名单: ['SCI']\n",
      "\n",
      "你有新的作业订单~请及时处理！\n",
      "SCI: 开卷！\n",
      "\n"
     ]
    }
   ],
   "source": [
    "from abc import ABC, abstractmethod\n",
    "\n",
    "# 观察者抽象类 - 学生类\n",
    "class Student(ABC):\n",
    "    def __init__(self, name):\n",
    "        self.name = name\n",
    "    @abstractmethod\n",
    "    def learn_math(self):\n",
    "        pass\n",
    "\n",
    "# 观察者类 - 文科学生\n",
    "class LiberalArtsStudent(Student):\n",
    "    def __init__(self, name):\n",
    "        super().__init__(name)\n",
    "    def learn_math(self):\n",
    "        print(f\"{self.name}: 退了退了\")\n",
    "\n",
    "# 观察者类 - 理科学生\n",
    "class ScienceStudent(Student):\n",
    "    def __init__(self, name):\n",
    "        super().__init__(name)\n",
    "    def learn_math(self):\n",
    "        print(f\"{self.name}: 开卷！\")\n",
    "\n",
    "# 被观察对象类 - 数学课\n",
    "class MathCourse:\n",
    "    def __init__(self):\n",
    "        self.students = []\n",
    "\n",
    "    # 教学网能够增删学生\n",
    "    def add_student(self, student):\n",
    "\n",
    "        ###############################\n",
    "        #--- Your code starts here ---#\n",
    "        ###############################\n",
    "\n",
    "        pass\n",
    "        \n",
    "        ###############################\n",
    "        #---  Your code ends here  ---#\n",
    "        ###############################\n",
    "\n",
    "    def remove_student(self, student):\n",
    "        \n",
    "        ###############################\n",
    "        #--- Your code starts here ---#\n",
    "        ###############################\n",
    "\n",
    "        pass\n",
    "        \n",
    "        ###############################\n",
    "        #---  Your code ends here  ---#\n",
    "        ###############################\n",
    "\n",
    "    # 数学课通过教学网给学生发通知\n",
    "    def notify_student(self):\n",
    "        print(\"你有新的作业订单~请及时处理！\")\n",
    "        for student in self.students:\n",
    "            student.learn_math()\n",
    "\n",
    "# 教学网的一个实例\n",
    "math_course = MathCourse()\n",
    "\n",
    "# 文理科学生的一个实例\n",
    "liberal_arts_student = LiberalArtsStudent('ART')\n",
    "science_student = ScienceStudent('SCI')\n",
    "\n",
    "# 两名学生选了课（成为观察者）\n",
    "print('====选课阶段====')\n",
    "math_course.add_student(liberal_arts_student)\n",
    "math_course.add_student(science_student)\n",
    "print(f'当前选课名单: {[stu.name for stu in math_course.students]}')\n",
    "print()\n",
    "\n",
    "# 课程发布了作业并通知选课同学\n",
    "math_course.notify_student()\n",
    "print()\n",
    "\n",
    "# 文科学生退课（不再作为观察者）\n",
    "print('====补退选阶段====')\n",
    "math_course.remove_student(liberal_arts_student)\n",
    "print(f'当前选课名单: {[stu.name for stu in math_course.students]}')\n",
    "print()\n",
    "\n",
    "# 课程发布了第二次作业并通知选课同学\n",
    "math_course.notify_student()\n",
    "print()"
   ]
  },
  {
   "cell_type": "markdown",
   "metadata": {},
   "source": [
    "## 二、正则表达式与文本处理"
   ]
  },
  {
   "cell_type": "markdown",
   "metadata": {},
   "source": [
    "正则表达式相关代码的写法有较大的自由度, 因此本部分中待填充的部分往往具有多种合理的实现方法, 能够写出一种即可. 有余力的同学可以尝试探索多种方案.\n",
    "\n",
    "对正则表达式不熟悉的同学可以通过[此网站](https://www.jyshare.com/front-end/854/)进行学习与尝试"
   ]
  },
  {
   "cell_type": "code",
   "execution_count": 5,
   "metadata": {},
   "outputs": [],
   "source": [
    "import re\n",
    "from collections import Counter"
   ]
  },
  {
   "cell_type": "markdown",
   "metadata": {},
   "source": [
    "### 2.1 寻找数字字符"
   ]
  },
  {
   "cell_type": "markdown",
   "metadata": {},
   "source": [
    "给定字符串`s`和整数`n`, 使用**正则表达式相关操作**寻找`s`中在第`n`个字符(含)之后的第一个数字字符(`'0'-'9'`)并返回; 若找不到数字字符, 返回`None` \n",
    "\n",
    "为方便起见, 我们认为`s[0]`是第零个字符"
   ]
  },
  {
   "cell_type": "code",
   "execution_count": 6,
   "metadata": {},
   "outputs": [],
   "source": [
    "def find_number(s, n):\n",
    "\n",
    "    ###############################\n",
    "    #--- Your code starts here ---#\n",
    "    ###############################\n",
    "\n",
    "    pass\n",
    "\n",
    "    ###############################\n",
    "    #---  Your code ends here  ---#\n",
    "    ###############################\n",
    "\n",
    "\n",
    "assert find_number('abc123', 0) == '1'\n",
    "assert find_number('abc123', 5) == '3'\n",
    "assert find_number('abc123', 10) is None\n",
    "assert find_number('abcabc', 1) is None"
   ]
  },
  {
   "cell_type": "markdown",
   "metadata": {},
   "source": [
    "### 2.2 学号判断"
   ]
  },
  {
   "cell_type": "markdown",
   "metadata": {},
   "source": [
    "白鲸大学本科学生学号的规则为`xx000yyyyy`, 其中`xx`为入学年份的后两位, `yyyyy`为五位任意数字, 使用**正则表达式相关操作**写一个函数, 判断给定的字符串是否为合理的学号, 为方便起见, 我们认为`xx`的取值范围是`20-23`. \n",
    "\n",
    "考虑到休学、延毕、提前录取等特殊情况, `xx`的取值范围可能是是`18-24`, 请将`is_20_to_23`改为`False`, 并尝试写出适用于这种情况下的函数. "
   ]
  },
  {
   "cell_type": "code",
   "execution_count": 7,
   "metadata": {},
   "outputs": [],
   "source": [
    "is_20_to_23 = True\n",
    "# is_20_to_23 = False\n",
    "\n",
    "def is_valid_student_id(student_id):\n",
    "\n",
    "    ###############################\n",
    "    #--- Your code starts here ---#\n",
    "    ###############################\n",
    "    \n",
    "    pass\n",
    "\n",
    "    ###############################\n",
    "    #---  Your code ends here  ---#\n",
    "    ###############################\n",
    "\n",
    "\n",
    "assert is_valid_student_id(\"1800012345\" ) == False if is_20_to_23 else True\n",
    "assert is_valid_student_id(\"2100012345\" ) == True\n",
    "assert is_valid_student_id(\"2000012345\" ) == True\n",
    "assert is_valid_student_id(\"1700012345\" ) == False\n",
    "assert is_valid_student_id(\"2400012345\" ) == False if is_20_to_23 else True\n",
    "assert is_valid_student_id(\"2500012345\" ) == False\n",
    "assert is_valid_student_id(\"2100123456\" ) == False\n",
    "assert is_valid_student_id(\"220012345\"  ) == False\n",
    "assert is_valid_student_id(\"23001234567\") == False\n",
    "assert is_valid_student_id(\"a2100012345\") == False\n",
    "assert is_valid_student_id(\"2100012345a\") == False"
   ]
  },
  {
   "cell_type": "markdown",
   "metadata": {},
   "source": [
    "### 2.3 单词提取"
   ]
  },
  {
   "cell_type": "markdown",
   "metadata": {},
   "source": [
    "从给定的字符串`s`中, 使用**正则表达式相关操作**提取所有以大写字母开头、其余均为小写的单词，并返回一个列表\n",
    "\n",
    "被短横杠(-)等特殊符号分隔开的词也算作不同的单词, 如well-Known应视为well和Known两个词"
   ]
  },
  {
   "cell_type": "code",
   "execution_count": 8,
   "metadata": {},
   "outputs": [],
   "source": [
    "def extract_capitalized_words(s):\n",
    "\n",
    "    ###############################\n",
    "    #--- Your code starts here ---#\n",
    "    ###############################\n",
    "    \n",
    "    pass\n",
    "\n",
    "    ###############################\n",
    "    #---  Your code ends here  ---#\n",
    "    ###############################\n",
    "\n",
    "\n",
    "s1 = \"The quick brown Fox jumps over The lazy Dog\"\n",
    "assert Counter(extract_capitalized_words(s1)) == Counter(['The', 'The', 'Fox', 'Dog'])\n",
    "s2 = \"Now I am become Death, the destroyer of the worlds\"\n",
    "assert Counter(extract_capitalized_words(s2)) == Counter(['Now', 'I', 'Death'])\n",
    "s3 = \"there is no capitalized word in this sentence\"\n",
    "assert Counter(extract_capitalized_words(s3)) == Counter()\n",
    "s4 = \"THis Sent+nce is Wr/Tten By.So-Meone( WHose engLish is So; Pooor?\"\n",
    "assert Counter(extract_capitalized_words(s4)) == \\\n",
    "    Counter(['Sent', 'Wr', 'Tten', 'By', 'So', 'Meone', 'So', 'Pooor'])"
   ]
  },
  {
   "cell_type": "markdown",
   "metadata": {},
   "source": [
    "### 2.4 多余空格去除"
   ]
  },
  {
   "cell_type": "markdown",
   "metadata": {},
   "source": [
    "给定一个字符串`s`, 使用**正则表达式相关操作**将其中的多个连续的空字符(包括空格、换行符`\\n`、制表符`\\t`、回车符`\\r`)替换为单个空格"
   ]
  },
  {
   "cell_type": "code",
   "execution_count": 9,
   "metadata": {},
   "outputs": [],
   "source": [
    "def remove_multiple_spaces(s):\n",
    "    \n",
    "    ###############################\n",
    "    #--- Your code starts here ---#\n",
    "    ###############################\n",
    "    \n",
    "    pass\n",
    "\n",
    "    ###############################\n",
    "    #---  Your code ends here  ---#\n",
    "    ###############################\n",
    "\n",
    "\n",
    "s1 = 'This  is     a    sentence   with     multiple   spaces.'\n",
    "assert remove_multiple_spaces(s1) == 'This is a sentence with multiple spaces.'\n",
    "s2 = '''\n",
    "\n",
    "        \t\\r\n",
    "    \t       \\r\n",
    "\n",
    "        \\r\n",
    "'''\n",
    "assert remove_multiple_spaces(s2) == ' '"
   ]
  },
  {
   "cell_type": "markdown",
   "metadata": {},
   "source": [
    "### 2.5 字母轮换"
   ]
  },
  {
   "cell_type": "markdown",
   "metadata": {},
   "source": [
    "给定一个字符串`s`, 使用**正则表达式相关操作**将其中的`'A'`变为`'B'`, `'B'`变为`'C'`, ... , `'Z'`变为`'A'`, 其余字符(包括小写字母)不变"
   ]
  },
  {
   "cell_type": "code",
   "execution_count": 10,
   "metadata": {},
   "outputs": [],
   "source": [
    "def shift_characters(s):\n",
    "    \n",
    "    ###############################\n",
    "    #--- Your code starts here ---#\n",
    "    ###############################\n",
    "\n",
    "    pass\n",
    "\n",
    "    ###############################\n",
    "    #--- Your code starts here ---#\n",
    "    ###############################\n",
    "\n",
    "\n",
    "assert shift_characters('AbCdEfGhZa') == 'BbDdFfHhAa'"
   ]
  },
  {
   "cell_type": "markdown",
   "metadata": {},
   "source": [
    "## 三、网络通讯"
   ]
  },
  {
   "cell_type": "markdown",
   "metadata": {},
   "source": [
    "本部分**不要求填充代码**, 能够阅读、运行并理解服务端和客户端代码即可\n",
    "\n",
    "以下是一个简单的C/S架构的服务端(S), 它的功能是接受客户端传来的信息, 处理后返回给客户端.\n",
    "\n",
    "客户端(C)代码在client.py中, 它的功能是 (1) 接受用户输入并发送给服务端 (2) 接受服务端返回的数据并打印\n",
    "\n",
    "因此, 整个系统的工作流程是：\n",
    "\n",
    "1. 用户输入一串字符`s`\n",
    "2. 客户端将`s`发送给服务端\n",
    "3. 服务端将处理后的`s`(记为`s2`)发送给客户端\n",
    "4. 客户端打印`s2`\n",
    "\n",
    "如何运行：\n",
    "\n",
    "1. 运行下面的代码段: 当看到打印出\"等待连接...\"时, 表明服务器已经准备好接受来自客户端的连接\n",
    "2. 运行client.py: 在命令行中, 利用cd指令前往该文件所在目录, 输入`python client.py`；或其他你熟悉的运行py文件的方法\n",
    "\n",
    "如果运行到第7行时出现与“通常每个套接字地址(协议/网络地址/端口)只允许使用一次”类似的错误, 则将下面代码的第7行和client.py第7行中的9999改成**相同的**1024~65535中的其他数字即可"
   ]
  },
  {
   "cell_type": "code",
   "execution_count": null,
   "metadata": {},
   "outputs": [],
   "source": [
    "import socket\n",
    "\n",
    "def start_server():\n",
    "    # 创建套接字，这里的AF_INET和SOCK_STREAM无需深究具体含义\n",
    "    server_socket = socket.socket(socket.AF_INET, socket.SOCK_STREAM)\n",
    "    # 绑定地址到套接字，这里localhost表示本地计算机\n",
    "    server_socket.bind(('localhost', 9999))\n",
    "    # 开始监听，这里的参数5无需深究具体含义\n",
    "    server_socket.listen(5)\n",
    "\n",
    "    print(\"服务端正在监听...\")\n",
    "\n",
    "    # 进入死循环，不断接受新的连接并处理\n",
    "    while True:\n",
    "        print(\"等待连接...\")\n",
    "        client_socket, addr = server_socket.accept()\n",
    "        print(f\"与{addr}建立连接\")\n",
    "\n",
    "        # 处理与客户端通信\n",
    "        handle_client(client_socket)\n",
    "    \n",
    "    # 虽然这行代码永远不会被执行，但是打开过的东西用完后随手关上是编程的好习惯\n",
    "    server_socket.close()\n",
    "\n",
    "def handle_client(client_socket):\n",
    "    while True:\n",
    "        # 接受来自客户端的数据\n",
    "        s = client_socket.recv(1024).decode('utf-8')\n",
    "        if not s:\n",
    "            break\n",
    "        print(f\"从客户端接收到的信息: {s}\")\n",
    "\n",
    "        # 处理数据\n",
    "        # 通常会定义Server为一个类，在这里调用该类的数据处理函数，此处已简化\n",
    "        s2 = \"【处理过】\" + s\n",
    "\n",
    "        # 处理后的数据返回给客户端\n",
    "        client_socket.sendall(s2.encode('utf-8'))\n",
    "\n",
    "    print('断开与客户端的连接')\n",
    "    client_socket.close()\n",
    "\n",
    "\n",
    "start_server()\n"
   ]
  },
  {
   "cell_type": "markdown",
   "metadata": {},
   "source": [
    "## 四、补充材料：类型提示与docstring简介"
   ]
  },
  {
   "cell_type": "markdown",
   "metadata": {},
   "source": [
    "**本部分为补充材料，供学有余力的同学参考阅读**"
   ]
  },
  {
   "cell_type": "markdown",
   "metadata": {},
   "source": [
    "本部分所介绍的内容为Python中两种特殊“注释”的写法, 希望能帮助想进一步利用Python进行开发工作的同学写出更加规范、清晰的工程代码"
   ]
  },
  {
   "cell_type": "markdown",
   "metadata": {},
   "source": [
    "### 4.1 类型提示"
   ]
  },
  {
   "cell_type": "markdown",
   "metadata": {},
   "source": [
    "虽然Python是动态编程语言, 不需要对变量进行类型声明, 但在Python 3.5中, 加入了“[函数参数与返回值类型提示](https://docs.python.org/3/library/typing.html)”的功能; 在Python 3.6中, 加入了“[变量声明时类型注解](https://peps.python.org/pep-0526/)”的功能."
   ]
  },
  {
   "cell_type": "markdown",
   "metadata": {},
   "source": [
    "两者的使用格式如下\n",
    "```python\n",
    "def func(\n",
    "        var_1: type_1 [= default_val_1], \n",
    "        var_2: type_2 [= default_val_2], \n",
    "        ..., \n",
    "        var_n: type_n [= default_val_n]\n",
    "    ) -> result_type:\n",
    "    pass\n",
    "\n",
    "variable: type_ = ...\n",
    "```"
   ]
  },
  {
   "cell_type": "markdown",
   "metadata": {},
   "source": [
    "以下是一个更具体的例子, 在这个例子中, 我们定义了一个函数`sumint`, 用于求两个整数的和, 函数参数为`a`和`b`, 其中`a:int`表示参数`a`应具有`int`类型; `b:int=3`表示参数`b`应具有`int`类型且默认值为3, 参数表后面的`-> int`表示函数的返回值是`int`类型.\n",
    "\n",
    "我们还定义了一个变量`c`来存储`sumint(3,5)`, 在定义时, 用`c:int = ...`表示`c`应该是一个`int`类型"
   ]
  },
  {
   "cell_type": "code",
   "execution_count": 1,
   "metadata": {},
   "outputs": [
    {
     "name": "stdout",
     "output_type": "stream",
     "text": [
      "8 <class 'int'>\n"
     ]
    }
   ],
   "source": [
    "def sumint(a:int, b:int=3) -> int:\n",
    "    return a + b \n",
    "\n",
    "c:int = sumint(3, 5)\n",
    "print(c, type(c))"
   ]
  },
  {
   "cell_type": "markdown",
   "metadata": {},
   "source": [
    "此外, Python还提供了`typing`模块, 用于更复杂的类型提示, 以下用几个例子表明这个模块的部分用法"
   ]
  },
  {
   "cell_type": "code",
   "execution_count": 2,
   "metadata": {},
   "outputs": [],
   "source": [
    "from typing import Tuple, List, Dict, Set, Union\n",
    "\n",
    "# 使用Tuple表明类型为元组\n",
    "t1: Tuple = (1, 2, 3)\n",
    "# 使用Tuple[type_]表明类型为元组, 元组中元素的类型为type_\n",
    "t2: Tuple[str] = ('1', '2', '3')\n",
    "# 使用Tuple[type1, type2, ...]表明元组各位置元素的类型\n",
    "t3: Tuple[int, str, float] = (1, '2', 3.1)\n",
    "\n",
    "# List用法与元组相似\n",
    "# 但List不支持第三种用法, 运行下面这行代码会报错\n",
    "# l3: List[int, str, float] = [1, \"2\", 3.1]\n",
    "\n",
    "# 使用Dict表明类型为字典\n",
    "d1: Dict = {1: 'a'}\n",
    "# 使用Dict[type_key, type_val]表明字典键和值的类型\n",
    "d2: Dict[int, str] = {2, 'b'}\n",
    "\n",
    "# Set用法与List相似, 例子略\n",
    "\n",
    "# 使用Union表示多种类型的“或”\n",
    "# 下例表明列表内的元素类型都是int或str\n",
    "l1: List[Union[int, str]] = ['2', 1]"
   ]
  },
  {
   "cell_type": "code",
   "execution_count": 3,
   "metadata": {},
   "outputs": [
    {
     "name": "stdout",
     "output_type": "stream",
     "text": [
      "None\n",
      "3\n"
     ]
    }
   ],
   "source": [
    "from typing import Optional \n",
    "\n",
    "# Optional常用于函数传参, 表明某个变量可以是None\n",
    "# 下例表明函数func的参数var或者是None, 或者是一个int类型的\n",
    "def func(var: Optional[int] = None) -> str:\n",
    "    print(var)\n",
    "    return '111'\n",
    "\n",
    "_ = func()\n",
    "_ = func(3)"
   ]
  },
  {
   "cell_type": "markdown",
   "metadata": {},
   "source": [
    "以上所展示的例子看起来很美好, 但事实上, 我们所加的注解和提示完全不会进行任何检查, 下面的代码仍然可以正常运行, 不会报出任何错误 (甚至也不会有Warning)"
   ]
  },
  {
   "cell_type": "code",
   "execution_count": 4,
   "metadata": {},
   "outputs": [
    {
     "name": "stdout",
     "output_type": "stream",
     "text": [
      "3.1 <class 'float'>\n"
     ]
    }
   ],
   "source": [
    "# 尽管我们声明a的类型为int, 但仍能将浮点数3.1赋给a\n",
    "a: int = 3.1\n",
    "# 当我们打印a的类型时, 输出的其实是float\n",
    "print(a, type(a))"
   ]
  },
  {
   "cell_type": "code",
   "execution_count": 5,
   "metadata": {},
   "outputs": [
    {
     "name": "stdout",
     "output_type": "stream",
     "text": [
      "3.5 <class 'float'>\n"
     ]
    }
   ],
   "source": [
    "def sumint(a:int, b:int=2) -> int:\n",
    "    return a + b\n",
    "\n",
    "# 尽管我们声明参数a, b的类型为int, 但仍能将浮点数作为参数传入\n",
    "c = sumint(1.2, 2.3)\n",
    "# 尽管我们声明函数返回值的类型为int, 但打印出来发现其实是float\n",
    "print(c, type(c))"
   ]
  },
  {
   "cell_type": "markdown",
   "metadata": {},
   "source": [
    "虽然无法对类型进行检查和报错, 但我们仍然建议在使用Python进行开发, 特别是中型、大型项目时, 仍在必要的地方(如关键函数的参数和返回值等)加上类型提示, 以便\n",
    "\n",
    "- 合作者/几个月后的自己阅读代码更轻松\n",
    "- IDE进行代码提示\n",
    "- 使用`mypy`进行代码检查, 以下简单展示mypy的用法"
   ]
  },
  {
   "cell_type": "code",
   "execution_count": null,
   "metadata": {},
   "outputs": [],
   "source": [
    "%pip install mypy"
   ]
  },
  {
   "cell_type": "code",
   "execution_count": 7,
   "metadata": {},
   "outputs": [
    {
     "name": "stdout",
     "output_type": "stream",
     "text": [
      "Writing test_mypy.py\n"
     ]
    }
   ],
   "source": [
    "%%writefile test_mypy.py \n",
    "def add(x: int, y: int) -> int:\n",
    "    result = x + y\n",
    "    print(result)\n",
    "    return result \n",
    "\n",
    "add(\"have a \", \"try!\") "
   ]
  },
  {
   "cell_type": "code",
   "execution_count": 8,
   "metadata": {},
   "outputs": [
    {
     "name": "stdout",
     "output_type": "stream",
     "text": [
      "test_mypy.py:6: error: Argument 1 to \"add\" has incompatible type \"str\"; expected \"int\"  [arg-type]\n",
      "test_mypy.py:6: error: Argument 2 to \"add\" has incompatible type \"str\"; expected \"int\"  [arg-type]\n",
      "Found 2 errors in 1 file (checked 1 source file)\n"
     ]
    }
   ],
   "source": [
    "!mypy test_mypy.py"
   ]
  },
  {
   "cell_type": "markdown",
   "metadata": {},
   "source": [
    "### 4.2 Docstring"
   ]
  },
  {
   "cell_type": "markdown",
   "metadata": {},
   "source": [
    "Docsting可以认为是对一个函数、类、模块整体的注释或描述语句:\n",
    "\n",
    "- 它必须紧跟在定义函数、类等语句的冒号之后, 用三引号括起\n",
    "- 它会成为那个对象的`__doc__`属性\n",
    "- 它的写法遵循一些规范（或者说[公约](https://peps.python.org/pep-0257/)）"
   ]
  },
  {
   "cell_type": "code",
   "execution_count": 9,
   "metadata": {},
   "outputs": [
    {
     "name": "stdout",
     "output_type": "stream",
     "text": [
      "====  直接打印__doc__  ====\n",
      "This funcion sums two integers and output the result\n",
      "\n",
      "====  使用help查看__doc__  ====\n",
      "Help on function sumint in module __main__:\n",
      "\n",
      "sumint(a, b)\n",
      "    This funcion sums two integers and output the result\n",
      "\n"
     ]
    }
   ],
   "source": [
    "# 例子, 为函数写单行docstring并打印它的__doc__属性\n",
    "\n",
    "def sumint(a, b):\n",
    "    '''This funcion sums two integers and output the result'''\n",
    "    return a + b \n",
    "\n",
    "print('====  直接打印__doc__  ====')\n",
    "print(sumint.__doc__)\n",
    "print()\n",
    "\n",
    "# 也可以使用help来查看__doc__\n",
    "print('====  使用help查看__doc__  ====')\n",
    "help(sumint)"
   ]
  },
  {
   "cell_type": "code",
   "execution_count": 10,
   "metadata": {},
   "outputs": [
    {
     "name": "stdout",
     "output_type": "stream",
     "text": [
      "====  直接打印__doc__  ====\n",
      "None\n",
      "\n",
      "====  使用help查看__doc__  ====\n",
      "Help on function sumint2 in module __main__:\n",
      "\n",
      "sumint2(a, b)\n",
      "\n"
     ]
    }
   ],
   "source": [
    "# 当描述语句并不紧跟在定义的冒号之后时, 它不会成为对象的__doc__属性\n",
    "\n",
    "def sumint2(a, b):\n",
    "    c = a + b\n",
    "    '''This funcion sums two integers and output the result'''\n",
    "    return c\n",
    "\n",
    "print('====  直接打印__doc__  ====')\n",
    "print(sumint2.__doc__)\n",
    "print()\n",
    "\n",
    "print('====  使用help查看__doc__  ====')\n",
    "help(sumint2)"
   ]
  },
  {
   "cell_type": "markdown",
   "metadata": {},
   "source": [
    "以函数为例, 函数的docstring的内容通常可以包括函数功能、参数类型与作用、返回值类型与描述、使用时的注意事项等.\n",
    "\n",
    "通过学习部分优秀开源代码的docstring, 可以进一步体会到docstring的特点与写法, 以下是[PyTorch](https://pytorch.org/)某类方法的[源代码](https://pytorch.org/docs/stable/_modules/torch/nn/modules/transformer.html#Transformer.forward), 大家无需看懂这个函数在做什么, 只需从中体会到写docstring的(其中一种)范式：\n",
    "\n",
    "- 函数的功能(开头第一句话)\n",
    "- 参数的作用(`Args:`下的内容)、默认值的含义(`Default:`后的内容)、注意事项(`Warning:`后的内容)\n",
    "- 参数的限制(通俗的说, 这个方法实现的是矩阵的一些运算, 因此对参数形状有所要求, 这就是`Shape:`所描述的内容)和注意事项(`Note:`后的内容)\n",
    "- 使用或运行的例子(`Examples:`下的内容)"
   ]
  },
  {
   "cell_type": "markdown",
   "metadata": {},
   "source": [
    "```python\n",
    "class Transformer:\n",
    "    def forward(self, src: Tensor, tgt: Tensor, src_mask: Optional[Tensor] = None, tgt_mask: Optional[Tensor] = None,\n",
    "                memory_mask: Optional[Tensor] = None, src_key_padding_mask: Optional[Tensor] = None,\n",
    "                tgt_key_padding_mask: Optional[Tensor] = None, memory_key_padding_mask: Optional[Tensor] = None,\n",
    "                src_is_causal: Optional[bool] = None, tgt_is_causal: Optional[bool] = None,\n",
    "                memory_is_causal: bool = False) -> Tensor:\n",
    "        r\"\"\"Take in and process masked source/target sequences.\n",
    "\n",
    "        Args:\n",
    "            src: the sequence to the encoder (required).\n",
    "            tgt: the sequence to the decoder (required).\n",
    "            src_mask: the additive mask for the src sequence (optional).\n",
    "            tgt_mask: the additive mask for the tgt sequence (optional).\n",
    "            memory_mask: the additive mask for the encoder output (optional).\n",
    "            src_key_padding_mask: the Tensor mask for src keys per batch (optional).\n",
    "            tgt_key_padding_mask: the Tensor mask for tgt keys per batch (optional).\n",
    "            memory_key_padding_mask: the Tensor mask for memory keys per batch (optional).\n",
    "            src_is_causal: If specified, applies a causal mask as ``src_mask``.\n",
    "                Default: ``None``; try to detect a causal mask.\n",
    "                Warning:\n",
    "                ``src_is_causal`` provides a hint that ``src_mask`` is\n",
    "                the causal mask. Providing incorrect hints can result in\n",
    "                incorrect execution, including forward and backward\n",
    "                compatibility.\n",
    "            tgt_is_causal: If specified, applies a causal mask as ``tgt_mask``.\n",
    "                Default: ``None``; try to detect a causal mask.\n",
    "                Warning:\n",
    "                ``tgt_is_causal`` provides a hint that ``tgt_mask`` is\n",
    "                the causal mask. Providing incorrect hints can result in\n",
    "                incorrect execution, including forward and backward\n",
    "                compatibility.\n",
    "            memory_is_causal: If specified, applies a causal mask as\n",
    "                ``memory_mask``.\n",
    "                Default: ``False``.\n",
    "                Warning:\n",
    "                ``memory_is_causal`` provides a hint that\n",
    "                ``memory_mask`` is the causal mask. Providing incorrect\n",
    "                hints can result in incorrect execution, including\n",
    "                forward and backward compatibility.\n",
    "\n",
    "        Shape:\n",
    "            - src: :math:`(S, E)` for unbatched input, :math:`(S, N, E)` if `batch_first=False` or\n",
    "              `(N, S, E)` if `batch_first=True`.\n",
    "            - tgt: :math:`(T, E)` for unbatched input, :math:`(T, N, E)` if `batch_first=False` or\n",
    "              `(N, T, E)` if `batch_first=True`.\n",
    "            - src_mask: :math:`(S, S)` or :math:`(N\\cdot\\text{num\\_heads}, S, S)`.\n",
    "            - tgt_mask: :math:`(T, T)` or :math:`(N\\cdot\\text{num\\_heads}, T, T)`.\n",
    "            - memory_mask: :math:`(T, S)`.\n",
    "            - src_key_padding_mask: :math:`(S)` for unbatched input otherwise :math:`(N, S)`.\n",
    "            - tgt_key_padding_mask: :math:`(T)` for unbatched input otherwise :math:`(N, T)`.\n",
    "            - memory_key_padding_mask: :math:`(S)` for unbatched input otherwise :math:`(N, S)`.\n",
    "\n",
    "            Note: [src/tgt/memory]_mask ensures that position i is allowed to attend the unmasked\n",
    "            positions. If a BoolTensor is provided, positions with ``True``\n",
    "            are not allowed to attend while ``False`` values will be unchanged. If a FloatTensor\n",
    "            is provided, it will be added to the attention weight.\n",
    "            [src/tgt/memory]_key_padding_mask provides specified elements in the key to be ignored by\n",
    "            the attention. If a BoolTensor is provided, the positions with the\n",
    "            value of ``True`` will be ignored while the position with the value of ``False`` will be unchanged.\n",
    "\n",
    "            - output: :math:`(T, E)` for unbatched input, :math:`(T, N, E)` if `batch_first=False` or\n",
    "              `(N, T, E)` if `batch_first=True`.\n",
    "\n",
    "            Note: Due to the multi-head attention architecture in the transformer model,\n",
    "            the output sequence length of a transformer is same as the input sequence\n",
    "            (i.e. target) length of the decoder.\n",
    "\n",
    "            where S is the source sequence length, T is the target sequence length, N is the\n",
    "            batch size, E is the feature number\n",
    "\n",
    "        Examples:\n",
    "            >>> # xdoctest: +SKIP\n",
    "            >>> output = transformer_model(src, tgt, src_mask=src_mask, tgt_mask=tgt_mask)\n",
    "        \"\"\"\n",
    "        is_batched = src.dim() == 3\n",
    "        if not self.batch_first and src.size(1) != tgt.size(1) and is_batched:\n",
    "            raise RuntimeError(\"the batch number of src and tgt must be equal\")\n",
    "        elif self.batch_first and src.size(0) != tgt.size(0) and is_batched:\n",
    "            raise RuntimeError(\"the batch number of src and tgt must be equal\")\n",
    "\n",
    "        if src.size(-1) != self.d_model or tgt.size(-1) != self.d_model:\n",
    "            raise RuntimeError(\"the feature number of src and tgt must be equal to d_model\")\n",
    "\n",
    "        memory = self.encoder(src, mask=src_mask, src_key_padding_mask=src_key_padding_mask,\n",
    "                              is_causal=src_is_causal)\n",
    "        output = self.decoder(tgt, memory, tgt_mask=tgt_mask, memory_mask=memory_mask,\n",
    "                              tgt_key_padding_mask=tgt_key_padding_mask,\n",
    "                              memory_key_padding_mask=memory_key_padding_mask,\n",
    "                              tgt_is_causal=tgt_is_causal, memory_is_causal=memory_is_causal)\n",
    "        return output\n",
    "```"
   ]
  }
 ],
 "metadata": {
  "kernelspec": {
   "display_name": "gomoku",
   "language": "python",
   "name": "python3"
  },
  "language_info": {
   "codemirror_mode": {
    "name": "ipython",
    "version": 3
   },
   "file_extension": ".py",
   "mimetype": "text/x-python",
   "name": "python",
   "nbconvert_exporter": "python",
   "pygments_lexer": "ipython3",
   "version": "3.7.13"
  }
 },
 "nbformat": 4,
 "nbformat_minor": 2
}
