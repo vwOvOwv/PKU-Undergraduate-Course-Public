{
 "cells": [
  {
   "cell_type": "markdown",
   "metadata": {},
   "source": [
    "# HW2-课后练习\n",
    "\n",
    "<span style=\"color:red; font-weight:bold;\">此次作业是课后练习，供大家熟练课堂上讲授的知识点，不计入任何分数。</span>\n",
    "\n",
    "<span style=\"color:red; font-weight:bold;\">请将作业命名为 HW2-课后练习+姓名+学号.ipynb, 例如 HW2-课后练习+张三+1000000000.ipynb</span>"
   ]
  },
  {
   "cell_type": "markdown",
   "metadata": {
    "vscode": {
     "languageId": "plaintext"
    }
   },
   "source": [
    "## 一、 迭代器和生成器"
   ]
  },
  {
   "cell_type": "markdown",
   "metadata": {},
   "source": [
    "### 1.生成斐波那契数列\n",
    "    编写一个生成器函数，生成一个无限的斐波那契数列。\n"
   ]
  },
  {
   "cell_type": "code",
   "execution_count": 2,
   "metadata": {},
   "outputs": [],
   "source": [
    "def fibonacci():\n",
    "    # TODO\n",
    "    a, b = 0, 1\n",
    "    while True:\n",
    "        yield a\n",
    "        a, b = b, a + b\n",
    "\n",
    "fib = fibonacci()\n",
    "assert [next(fib) for _ in range(10)] == [0, 1, 1, 2, 3, 5, 8, 13, 21, 34]\n"
   ]
  },
  {
   "cell_type": "markdown",
   "metadata": {},
   "source": [
    "### 2.使用生成器过滤数据\n",
    "    编写一个生成器函数，接受一个整数列表和一个阈值作为参数，只产生大于这个阈值的数。\n"
   ]
  },
  {
   "cell_type": "code",
   "execution_count": 5,
   "metadata": {},
   "outputs": [],
   "source": [
    "def filter_data(data, threshold):\n",
    "    # TODO\n",
    "    for num in data:\n",
    "        if num > threshold:\n",
    "            yield num\n",
    "data = [1, 2, 3, 4, 5, 6, 7, 8, 9, 10]\n",
    "filtered_data = filter_data(data, 5)\n",
    "assert list(filtered_data) == [6, 7, 8, 9, 10]"
   ]
  },
  {
   "cell_type": "markdown",
   "metadata": {},
   "source": [
    "### 3.生成器实现两个序列的交错输出\n",
    "    编写一个生成器函数，接受两个序列作为参数，并生成一个新序列，该序列交错包含原来两个序列的元素。例如，给定序列`[1, 3, 5]`和`[2, 4, 6]`，生成的序列应该是`[1, 2, 3, 4, 5, 6]`。（不要使用`zip`函数）"
   ]
  },
  {
   "cell_type": "code",
   "execution_count": 7,
   "metadata": {},
   "outputs": [],
   "source": [
    "def interleave(seq1, seq2):\n",
    "    # TODO\n",
    "    for i in range(len(seq1)):\n",
    "        yield seq1[i]\n",
    "        yield seq2[i]\n",
    "\n",
    "assert list(interleave([1, 2, 3], [4, 5, 6])) == [1, 4, 2, 5, 3, 6]"
   ]
  },
  {
   "cell_type": "markdown",
   "metadata": {},
   "source": [
    "### 4.使用生成器表达式实现数据处理\n",
    "    使用**生成器表达式**找出给定序列中的奇数，并且每个数值乘以3。"
   ]
  },
  {
   "cell_type": "code",
   "execution_count": 8,
   "metadata": {},
   "outputs": [],
   "source": [
    "numbers = [1, 2, 3, 4, 5, 6, 7, 8, 9, 10]\n",
    "\n",
    "result = (num * 3 for num in numbers if num % 2 == 1)\n",
    "\n",
    "assert list(result) == [3, 9, 15, 21, 27]"
   ]
  },
  {
   "cell_type": "markdown",
   "metadata": {},
   "source": [
    "### 5.使用递归实现嵌套列表的展平\n",
    "    编写一个生成器函数，接受一个嵌套列表作为参数，展平该嵌套列表。例如，给定`[1, 2, [3, 4, [5, 6], 7], 8]`，返回`[1, 2, 3, 4, 5, 6, 7, 8]`。\n",
    "    （提示：可以通过使用isinstance()函数检查元素的类型）"
   ]
  },
  {
   "cell_type": "code",
   "execution_count": 30,
   "metadata": {},
   "outputs": [
    {
     "name": "stdout",
     "output_type": "stream",
     "text": [
      "[1, 2, 3, 4, 5, 6, 7, 8, 9]\n"
     ]
    }
   ],
   "source": [
    "def flatten(lst):\n",
    "    # TODO\n",
    "    for ele in lst:\n",
    "        if isinstance(ele, int):\n",
    "            yield ele\n",
    "        else:\n",
    "            yield from flatten(ele) # 将深层递归的结果提取到生成器\n",
    "# nested_list = [1, [2, [3, 4]], 5, [6, 7, [8, 9]]]\n",
    "print(list(flatten(nested_list)))\n",
    "assert list(flatten(nested_list)) == [1, 2, 3, 4, 5, 6, 7, 8, 9]"
   ]
  },
  {
   "cell_type": "markdown",
   "metadata": {},
   "source": [
    "## 二、高阶函数、Lambda表达式"
   ]
  },
  {
   "cell_type": "markdown",
   "metadata": {},
   "source": [
    "### 1. 统计词频\n",
    "    给定一个文本（字符串形式），使用`filter`过滤掉所有的标点符号和空白字符，然后使用`map`将所有单词转换为小写形式，最后使用`reduce`统计每个单词出现的频率。\n",
    "    reduce的作用是将一个序列的值合并成一个值，如`reduce(lambda x, y: x+y, [1, 2, 3, 4, 5])`等价于`((((1+2)+3)+4)+5)`"
   ]
  },
  {
   "cell_type": "code",
   "execution_count": 12,
   "metadata": {},
   "outputs": [],
   "source": [
    "from functools import reduce # !!!\n",
    "\n",
    "text = \"\"\"You are right, but Genshin Impact is a brand new open world adventure game developed independently by miHoYo. The game takes place in a fantasy world called Teyvat, where individuals chosen by the gods are granted the Vision, guiding the power of elements. You will play as a mysterious character known as the Traveler, encountering companions with diverse personalities and unique abilities during your free travels. Together, you will defeat formidable enemies, reunite with lost relatives, and gradually uncover the truth behind Genshin.\"\"\"\n",
    "\n",
    "# 使用filter过滤标点符号，然后用map转换为小写\n",
    "words = filter(lambda char: char.isalnum() or char.isspace(), text)\n",
    "words = map(lambda word: word.lower(),''.join(words).split()) # 巧妙的join和split\n",
    "# 使用reduce统计单词频率\n",
    "frequency = reduce(lambda d, word: {**d, word: d.get(word, 0) + 1}, words, {}) # ???\n",
    "assert 'a' in frequency\n",
    "assert frequency['a'] == 3\n",
    "assert ',' not in frequency and '.' not in frequency"
   ]
  },
  {
   "cell_type": "markdown",
   "metadata": {},
   "source": [
    "### 2. 使用filter函数找出1~200之间的所有素数\n",
    "    提示：可以先生成一个2~200的序列，然后使用filter和lambda表达式来判断是否是素数。"
   ]
  },
  {
   "cell_type": "code",
   "execution_count": 18,
   "metadata": {},
   "outputs": [],
   "source": [
    "def is_prime(x):\n",
    "    # TODO\n",
    "    if x == 1: # 特判\n",
    "        return False\n",
    "    n = x - 1 # n = int(sqrt(x))更好\n",
    "    for i in range(2,n + 1): # 左闭右开\n",
    "        if x % i == 0:\n",
    "            return False\n",
    "    return True\n",
    "# 利用filter机制生成1-200的素数列表\n",
    "prime_list = list(filter(is_prime, [num for num in range(1,201)]))\n",
    "# print(prime_list)\n",
    "assert len(prime_list) == 46\n",
    "assert 101 in prime_list"
   ]
  },
  {
   "cell_type": "markdown",
   "metadata": {},
   "source": [
    "## 三、装饰器与闭包"
   ]
  },
  {
   "cell_type": "markdown",
   "metadata": {},
   "source": [
    "### 1.实现一个简单的装饰器\n",
    "    编写一个装饰器，为函数添加一个计时功能，打印该函数的运行时间。"
   ]
  },
  {
   "cell_type": "code",
   "execution_count": 1,
   "metadata": {},
   "outputs": [
    {
     "name": "stdout",
     "output_type": "stream",
     "text": [
      "Function f took 1.0035808086395264 seconds to execute.\n"
     ]
    }
   ],
   "source": [
    "import time\n",
    "def timing_decorator(func):\n",
    "    # TODO\n",
    "    def timing():\n",
    "        start_time = time.time() # 获取时钟\n",
    "        func()\n",
    "        end_time = time.time() # 获取时钟\n",
    "        execution_time = end_time - start_time\n",
    "        print(f\"Function {func.__name__} took {execution_time} seconds to execute.\")\n",
    "    # TODO\n",
    "    return timing\n",
    "@timing_decorator\n",
    "def f():\n",
    "    time.sleep(1)\n",
    "\n",
    "f()"
   ]
  },
  {
   "cell_type": "markdown",
   "metadata": {},
   "source": [
    "### 2.改进的cache装饰器\n",
    "    课上实现了有记忆存储的cache装饰器，但是对输入的参数有限制。现在希望实现一个@cached装饰器，支持对*args和**kwargs的输入同样的缓存支持，同时在输入不可哈希时抛出异常TypeError。（思考：有没有不使用异常，处理不可哈希输入的方法？）\n",
    "    注意：**kwargs中参数名的顺序可以不同，但是对应参数值相同的情况下，应该返回同样的结果。"
   ]
  },
  {
   "cell_type": "code",
   "execution_count": 36,
   "metadata": {},
   "outputs": [
    {
     "data": {
      "text/plain": [
       "0.00020003318786621094"
      ]
     },
     "execution_count": 36,
     "metadata": {},
     "output_type": "execute_result"
    }
   ],
   "source": [
    "import time\n",
    "\n",
    "def cached(func):\n",
    "    # TODO\n",
    "    mem = {}\n",
    "    def inner(farg, *args, **kwargs):\n",
    "        try:\n",
    "            args_key = tuple(args) # 可哈希要求元素immutable，通过转换为tuple可检查是否可哈希\n",
    "            kwargs_key = tuple(sorted(kwargs.items())) # 排序，从而解决参数顺序不同的情况\n",
    "            # print(args_key)\n",
    "            # print(kwargs_key)\n",
    "        except TypeError:\n",
    "            raise TypeError(\"Input values must be hashable.\")\n",
    "        key = (args_key, kwargs_key)\n",
    "        if key not in mem:\n",
    "            mem[key] = func(farg, args, kwargs) # 不是test_func!!!\n",
    "        return mem[key]\n",
    "        \n",
    "    return inner\n",
    "\n",
    "@cached\n",
    "def test_func(farg,*args,**kwargs):\n",
    "    time.sleep(1)\n",
    "    return farg,args,kwargs\n",
    "\n",
    "test_func(1,2,3,a=1,b=2)\n",
    "try:\n",
    "    test_func(1,2,3,a=[1],b=2)\n",
    "    assert False\n",
    "except TypeError:\n",
    "    assert True\n",
    "time1 = time.time()\n",
    "test_func(1,2,3,b=2,a=1)\n",
    "time2 = time.time()\n",
    "assert time2-time1 < 0.01\n",
    "time2 - time1"
   ]
  },
  {
   "cell_type": "code",
   "execution_count": 30,
   "metadata": {},
   "outputs": [
    {
     "data": {
      "text/plain": [
       "0.000171661376953125"
      ]
     },
     "execution_count": 30,
     "metadata": {},
     "output_type": "execute_result"
    }
   ],
   "source": [
    "# Answer of GPT\n",
    "def cached(func):\n",
    "    cache = {}\n",
    "    \n",
    "    def wrapper(*args, **kwargs):\n",
    "        # 将kwargs转换为可排序的元组，以保证顺序不影响缓存键的一致性\n",
    "        try:\n",
    "            # 检查args是否全部可哈希\n",
    "            args_key = tuple(args)\n",
    "            # 将kwargs转换为排序后的元组形式，以确保其可哈希性和顺序一致性\n",
    "            kwargs_key = tuple(sorted(kwargs.items()))\n",
    "        except TypeError as e:\n",
    "            # 如果转换过程中发现不可哈希的元素，则抛出TypeError\n",
    "            raise TypeError(\"Input values must be hashable.\")\n",
    "        \n",
    "        # 使用args和kwargs的组合作为缓存的键\n",
    "        cache_key = (args_key, kwargs_key)\n",
    "        \n",
    "        # 检查是否已经缓存了该调用的结果\n",
    "        if cache_key in cache:\n",
    "            return cache[cache_key]\n",
    "        else:\n",
    "            result = func(*args, **kwargs)\n",
    "            cache[cache_key] = result\n",
    "            return result\n",
    "    \n",
    "    return wrapper\n",
    "\n",
    "# 测试装饰器功能\n",
    "import time\n",
    "\n",
    "@cached\n",
    "def test_func(farg, *args, **kwargs):\n",
    "    time.sleep(1)  # 模拟耗时操作\n",
    "    return farg, args, kwargs\n",
    "\n",
    "# 正常情况的测试\n",
    "assert test_func(1, 2, 3, a=1, b=2) == (1, (2, 3), {'a': 1, 'b': 2})\n",
    "\n",
    "# 测试不可哈希输入的异常抛出\n",
    "try:\n",
    "    test_func(1, 2, 3, a=[1], b=2)\n",
    "    assert False  # 如果没有抛出异常，强制失败\n",
    "except TypeError:\n",
    "    assert True  # 抛出了TypeError，测试通过\n",
    "\n",
    "# 测试缓存是否有效，时间应该小于1秒\n",
    "time1 = time.time()\n",
    "test_func(1, 2, 3, b=2, a=1)\n",
    "time2 = time.time()\n",
    "\n",
    "assert time2 - time1 < 0.01  # 确认缓存有效，运行时间远小于1秒\n",
    "\n",
    "time2 - time1  # 输出运行时间，以验证缓存效果\n"
   ]
  },
  {
   "cell_type": "code",
   "execution_count": null,
   "metadata": {},
   "outputs": [],
   "source": []
  }
 ],
 "metadata": {
  "kernelspec": {
   "display_name": "Python 3 (ipykernel)",
   "language": "python",
   "name": "python3"
  },
  "language_info": {
   "codemirror_mode": {
    "name": "ipython",
    "version": 3
   },
   "file_extension": ".py",
   "mimetype": "text/x-python",
   "name": "python",
   "nbconvert_exporter": "python",
   "pygments_lexer": "ipython3",
   "version": "3.11.5"
  }
 },
 "nbformat": 4,
 "nbformat_minor": 4
}
