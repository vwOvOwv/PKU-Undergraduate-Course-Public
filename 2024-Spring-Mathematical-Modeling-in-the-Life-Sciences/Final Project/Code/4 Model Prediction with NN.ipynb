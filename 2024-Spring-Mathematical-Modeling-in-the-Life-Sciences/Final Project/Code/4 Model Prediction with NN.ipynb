{
 "cells": [
  {
   "cell_type": "markdown",
   "metadata": {},
   "source": [
    "# Model Prediction with Neural Network"
   ]
  },
  {
   "cell_type": "code",
   "execution_count": 30,
   "metadata": {},
   "outputs": [],
   "source": [
    "import pandas as pd\n",
    "from sklearn.preprocessing import MultiLabelBinarizer\n",
    "import numpy as np\n",
    "import os\n",
    "from PIL import Image \n",
    "import torch\n",
    "import torch.nn as nn\n",
    "import torch.optim as optim\n",
    "from torch.utils.data import DataLoader, TensorDataset\n",
    "from sklearn.model_selection import train_test_split\n",
    "import matplotlib.pyplot as plt"
   ]
  },
  {
   "cell_type": "code",
   "execution_count": 31,
   "metadata": {},
   "outputs": [
    {
     "data": {
      "text/html": [
       "<div>\n",
       "<style scoped>\n",
       "    .dataframe tbody tr th:only-of-type {\n",
       "        vertical-align: middle;\n",
       "    }\n",
       "\n",
       "    .dataframe tbody tr th {\n",
       "        vertical-align: top;\n",
       "    }\n",
       "\n",
       "    .dataframe thead th {\n",
       "        text-align: right;\n",
       "    }\n",
       "</style>\n",
       "<table border=\"1\" class=\"dataframe\">\n",
       "  <thead>\n",
       "    <tr style=\"text-align: right;\">\n",
       "      <th></th>\n",
       "      <th>filename</th>\n",
       "      <th>a_u</th>\n",
       "      <th>b_u</th>\n",
       "      <th>c_u</th>\n",
       "      <th>d_u</th>\n",
       "      <th>D_u</th>\n",
       "      <th>F_max</th>\n",
       "      <th>a_v</th>\n",
       "      <th>b_v</th>\n",
       "      <th>c_v</th>\n",
       "      <th>d_v</th>\n",
       "      <th>D_v</th>\n",
       "      <th>G_max</th>\n",
       "      <th>initial_u</th>\n",
       "      <th>initial_v</th>\n",
       "    </tr>\n",
       "  </thead>\n",
       "  <tbody>\n",
       "    <tr>\n",
       "      <th>0</th>\n",
       "      <td>./turing_dataset/pattern_5e6a20f6-3ec6-4ebe-85...</td>\n",
       "      <td>0.020429</td>\n",
       "      <td>0.020245</td>\n",
       "      <td>0.068584</td>\n",
       "      <td>-0.077554</td>\n",
       "      <td>0.025135</td>\n",
       "      <td>0.208119</td>\n",
       "      <td>0.079084</td>\n",
       "      <td>0.493664</td>\n",
       "      <td>0.115691</td>\n",
       "      <td>-0.001345</td>\n",
       "      <td>-0.130253</td>\n",
       "      <td>0.498706</td>\n",
       "      <td>['random_noise' 'triangles' 'spirals']</td>\n",
       "      <td>['sine_wave' 'spirals' 'stripes' 'random_noise...</td>\n",
       "    </tr>\n",
       "    <tr>\n",
       "      <th>1</th>\n",
       "      <td>./turing_dataset/pattern_3d823de1-9c51-4043-b9...</td>\n",
       "      <td>0.040340</td>\n",
       "      <td>0.015841</td>\n",
       "      <td>0.061679</td>\n",
       "      <td>-0.092339</td>\n",
       "      <td>0.033879</td>\n",
       "      <td>0.216815</td>\n",
       "      <td>0.086136</td>\n",
       "      <td>0.499560</td>\n",
       "      <td>0.101326</td>\n",
       "      <td>-0.015062</td>\n",
       "      <td>-0.168893</td>\n",
       "      <td>0.497401</td>\n",
       "      <td>['triangles' 'ellipses']</td>\n",
       "      <td>['stripes' 'perlin_noise' 'ellipses' 'triangles']</td>\n",
       "    </tr>\n",
       "    <tr>\n",
       "      <th>2</th>\n",
       "      <td>./turing_dataset/pattern_ce1daada-0027-4293-8f...</td>\n",
       "      <td>0.031140</td>\n",
       "      <td>0.018297</td>\n",
       "      <td>0.070244</td>\n",
       "      <td>-0.095640</td>\n",
       "      <td>0.047506</td>\n",
       "      <td>0.199861</td>\n",
       "      <td>0.084112</td>\n",
       "      <td>0.517046</td>\n",
       "      <td>0.089910</td>\n",
       "      <td>-0.016683</td>\n",
       "      <td>-0.165138</td>\n",
       "      <td>0.488055</td>\n",
       "      <td>['sine_wave' 'spirals' 'triangles' 'checkerboa...</td>\n",
       "      <td>['sine_wave' 'checkerboard']</td>\n",
       "    </tr>\n",
       "    <tr>\n",
       "      <th>3</th>\n",
       "      <td>./turing_dataset/pattern_5c66337e-e5b4-4f86-91...</td>\n",
       "      <td>0.011838</td>\n",
       "      <td>0.016432</td>\n",
       "      <td>0.096501</td>\n",
       "      <td>-0.067550</td>\n",
       "      <td>0.029620</td>\n",
       "      <td>0.202844</td>\n",
       "      <td>0.064877</td>\n",
       "      <td>0.499388</td>\n",
       "      <td>0.091030</td>\n",
       "      <td>0.017347</td>\n",
       "      <td>-0.160334</td>\n",
       "      <td>0.495626</td>\n",
       "      <td>['grid' 'stripes' 'gaussian_spots' 'circles' '...</td>\n",
       "      <td>['triangles' 'ellipses' 'gaussian_spots' 'spir...</td>\n",
       "    </tr>\n",
       "    <tr>\n",
       "      <th>4</th>\n",
       "      <td>./turing_dataset/pattern_ce3daa7d-1f0e-477f-81...</td>\n",
       "      <td>0.027987</td>\n",
       "      <td>0.036642</td>\n",
       "      <td>0.067677</td>\n",
       "      <td>-0.085520</td>\n",
       "      <td>0.017359</td>\n",
       "      <td>0.205186</td>\n",
       "      <td>0.079010</td>\n",
       "      <td>0.500444</td>\n",
       "      <td>0.101256</td>\n",
       "      <td>0.019337</td>\n",
       "      <td>-0.142630</td>\n",
       "      <td>0.518971</td>\n",
       "      <td>['spirals' 'circles' 'grid' 'random_noise' 'si...</td>\n",
       "      <td>['gaussian_spots' 'ellipses' 'sine_wave' 'spir...</td>\n",
       "    </tr>\n",
       "  </tbody>\n",
       "</table>\n",
       "</div>"
      ],
      "text/plain": [
       "                                            filename       a_u       b_u  \\\n",
       "0  ./turing_dataset/pattern_5e6a20f6-3ec6-4ebe-85...  0.020429  0.020245   \n",
       "1  ./turing_dataset/pattern_3d823de1-9c51-4043-b9...  0.040340  0.015841   \n",
       "2  ./turing_dataset/pattern_ce1daada-0027-4293-8f...  0.031140  0.018297   \n",
       "3  ./turing_dataset/pattern_5c66337e-e5b4-4f86-91...  0.011838  0.016432   \n",
       "4  ./turing_dataset/pattern_ce3daa7d-1f0e-477f-81...  0.027987  0.036642   \n",
       "\n",
       "        c_u       d_u       D_u     F_max       a_v       b_v       c_v  \\\n",
       "0  0.068584 -0.077554  0.025135  0.208119  0.079084  0.493664  0.115691   \n",
       "1  0.061679 -0.092339  0.033879  0.216815  0.086136  0.499560  0.101326   \n",
       "2  0.070244 -0.095640  0.047506  0.199861  0.084112  0.517046  0.089910   \n",
       "3  0.096501 -0.067550  0.029620  0.202844  0.064877  0.499388  0.091030   \n",
       "4  0.067677 -0.085520  0.017359  0.205186  0.079010  0.500444  0.101256   \n",
       "\n",
       "        d_v       D_v     G_max  \\\n",
       "0 -0.001345 -0.130253  0.498706   \n",
       "1 -0.015062 -0.168893  0.497401   \n",
       "2 -0.016683 -0.165138  0.488055   \n",
       "3  0.017347 -0.160334  0.495626   \n",
       "4  0.019337 -0.142630  0.518971   \n",
       "\n",
       "                                           initial_u  \\\n",
       "0             ['random_noise' 'triangles' 'spirals']   \n",
       "1                           ['triangles' 'ellipses']   \n",
       "2  ['sine_wave' 'spirals' 'triangles' 'checkerboa...   \n",
       "3  ['grid' 'stripes' 'gaussian_spots' 'circles' '...   \n",
       "4  ['spirals' 'circles' 'grid' 'random_noise' 'si...   \n",
       "\n",
       "                                           initial_v  \n",
       "0  ['sine_wave' 'spirals' 'stripes' 'random_noise...  \n",
       "1  ['stripes' 'perlin_noise' 'ellipses' 'triangles']  \n",
       "2                       ['sine_wave' 'checkerboard']  \n",
       "3  ['triangles' 'ellipses' 'gaussian_spots' 'spir...  \n",
       "4  ['gaussian_spots' 'ellipses' 'sine_wave' 'spir...  "
      ]
     },
     "execution_count": 31,
     "metadata": {},
     "output_type": "execute_result"
    }
   ],
   "source": [
    "# Read data we collected in the 2nd step\n",
    "df = pd.read_csv('./turing_dataset/processed_metadata.csv',  encoding='utf-8')\n",
    "df.head()"
   ]
  },
  {
   "cell_type": "code",
   "execution_count": 32,
   "metadata": {},
   "outputs": [
    {
     "data": {
      "text/plain": [
       "(2048, 15)"
      ]
     },
     "execution_count": 32,
     "metadata": {},
     "output_type": "execute_result"
    }
   ],
   "source": [
    "df.shape"
   ]
  },
  {
   "cell_type": "code",
   "execution_count": 33,
   "metadata": {},
   "outputs": [],
   "source": [
    "# Get model_parameters and initial conditions of each pattern\n",
    "model_parameters = df.iloc[:, 1:13].to_numpy()\n",
    "def process_initial(str):\n",
    "    str = str[1: -1]\n",
    "    str_list = str.split()\n",
    "    str_list = [str[1: -1] for str in str_list]\n",
    "    return str_list\n",
    "\n",
    "\n",
    "initial_u = df['initial_u'].apply(process_initial)\n",
    "initial_v = df['initial_v'].apply(process_initial)"
   ]
  },
  {
   "cell_type": "code",
   "execution_count": 34,
   "metadata": {},
   "outputs": [],
   "source": [
    "# Generate multi-label one-hot vectors\n",
    "mlb = MultiLabelBinarizer()\n",
    "one_hot_encoded_u = mlb.fit_transform(initial_u)\n",
    "one_hot_encoded_v = mlb.fit_transform(initial_v)"
   ]
  },
  {
   "cell_type": "code",
   "execution_count": 35,
   "metadata": {},
   "outputs": [
    {
     "data": {
      "text/plain": [
       "array([[0, 0, 0, ..., 1, 0, 1],\n",
       "       [0, 0, 1, ..., 0, 0, 1],\n",
       "       [1, 1, 1, ..., 1, 1, 1],\n",
       "       ...,\n",
       "       [0, 0, 0, ..., 0, 0, 0],\n",
       "       [0, 0, 0, ..., 0, 0, 0],\n",
       "       [0, 0, 0, ..., 0, 0, 0]])"
      ]
     },
     "execution_count": 35,
     "metadata": {},
     "output_type": "execute_result"
    }
   ],
   "source": [
    "one_hot_encoded_u"
   ]
  },
  {
   "cell_type": "code",
   "execution_count": 36,
   "metadata": {},
   "outputs": [
    {
     "data": {
      "text/plain": [
       "(2048, 11)"
      ]
     },
     "execution_count": 36,
     "metadata": {},
     "output_type": "execute_result"
    }
   ],
   "source": [
    "one_hot_encoded_u.shape"
   ]
  },
  {
   "cell_type": "code",
   "execution_count": 37,
   "metadata": {},
   "outputs": [
    {
     "name": "stdout",
     "output_type": "stream",
     "text": [
      "Shape of the dataset: (2048, 100, 100)\n"
     ]
    }
   ],
   "source": [
    "# Load data\n",
    "def load_dataset(folder_path):\n",
    "    origin_images = []\n",
    "    images = []\n",
    "    paths = []\n",
    "    for filename in os.listdir(folder_path):\n",
    "        if filename.endswith(\".png\") or filename.endswith(\".jpg\"):\n",
    "            file_path = os.path.join(folder_path, filename)\n",
    "\n",
    "            img = Image.open(file_path)\n",
    "            img = img.resize((100, 100))  # Ensure the image size is 100x100\n",
    "            data = np.array(img)\n",
    "            if data.shape[2] == 4:\n",
    "                data = data[:, :, :3]\n",
    "            \n",
    "            origin_images.append(data)\n",
    "\n",
    "            img = img.convert('L')  # Convert image to grayscale\n",
    "            images.append(np.array(img))\n",
    "\n",
    "            paths.append(file_path)\n",
    "    return np.array(images), paths, np.array(origin_images)\n",
    "\n",
    "dataset_path = './turing_dataset'\n",
    "\n",
    "# Extract features\n",
    "imgs, paths, ori_imgs = load_dataset(dataset_path)\n",
    "img_index = np.arange(imgs.shape[0])\n",
    "\n",
    "print(\"Shape of the dataset:\", imgs.shape)"
   ]
  },
  {
   "cell_type": "code",
   "execution_count": 38,
   "metadata": {},
   "outputs": [
    {
     "data": {
      "text/plain": [
       "(2048, 34)"
      ]
     },
     "execution_count": 38,
     "metadata": {},
     "output_type": "execute_result"
    }
   ],
   "source": [
    "# Combine labels\n",
    "img_labels = np.concatenate([model_parameters,one_hot_encoded_u, one_hot_encoded_v], axis=1)\n",
    "img_labels.shape"
   ]
  },
  {
   "cell_type": "code",
   "execution_count": 39,
   "metadata": {},
   "outputs": [],
   "source": [
    "# Get train and test dataset\n",
    "X = imgs.reshape((2048, 1, 100, 100))\n",
    "X = X / 255.0\n",
    "y = img_labels\n",
    "\n",
    "X = torch.tensor(X, dtype=torch.float32)\n",
    "y = torch.tensor(y, dtype=torch.float32)\n",
    "\n",
    "X_train, X_test, y_train, y_test = train_test_split(X, y, test_size=0.25, random_state=42)\n",
    "train_dataset = TensorDataset(X_train, y_train)\n",
    "test_dataset = TensorDataset(X_test, y_test)\n",
    "\n",
    "train_loader = DataLoader(train_dataset, batch_size=128, shuffle=True)\n",
    "test_loader = DataLoader(test_dataset, batch_size=32, shuffle=False)"
   ]
  },
  {
   "cell_type": "code",
   "execution_count": 40,
   "metadata": {},
   "outputs": [],
   "source": [
    "# Construct a CNN model\n",
    "class MultiTaskCNNModel(nn.Module):\n",
    "    def __init__(self):\n",
    "        super(MultiTaskCNNModel, self).__init__()\n",
    "        self.conv1 = nn.Conv2d(1, 32, kernel_size=3)\n",
    "        self.conv2 = nn.Conv2d(32, 64, kernel_size=3)\n",
    "        self.conv3 = nn.Conv2d(64, 128, kernel_size=3)\n",
    "        self.conv4 = nn.Conv2d(128, 256, kernel_size=3)\n",
    "        self.pool = nn.MaxPool2d(kernel_size=2, stride=2)\n",
    "        self.dropout = nn.Dropout(0.5)\n",
    "        self.fc1 = nn.Linear(256 * 4 * 4, 512)\n",
    "        \n",
    "        self.fc_params = nn.Linear(512, 12)\n",
    "        self.fc_initial = nn.Linear(512, 22)\n",
    "    \n",
    "    def forward(self, x):\n",
    "        x = self.pool(torch.relu(self.conv1(x)))\n",
    "        x = self.pool(torch.relu(self.conv2(x)))\n",
    "        x = self.pool(torch.relu(self.conv3(x)))\n",
    "        x = self.pool(torch.relu(self.conv4(x)))\n",
    "        x = x.view(-1, 256 * 4 * 4)\n",
    "        x = self.dropout(torch.relu(self.fc1(x)))\n",
    "        \n",
    "        params_out = self.fc_params(x)\n",
    "        initial_out = self.fc_initial(x)  # Linear output for CrossEntropyLoss\n",
    "        \n",
    "        return params_out, initial_out\n",
    "\n",
    "model = MultiTaskCNNModel()\n",
    "criterion_params = nn.MSELoss()\n",
    "criterion_initial = nn.BCEWithLogitsLoss()\n",
    "optimizer = optim.Adam(model.parameters(), lr=0.001)"
   ]
  },
  {
   "cell_type": "code",
   "execution_count": 41,
   "metadata": {},
   "outputs": [
    {
     "name": "stdout",
     "output_type": "stream",
     "text": [
      "Epoch [1/10], Train Loss: 0.6647, Test Loss: 0.5798\n",
      "Epoch [2/10], Train Loss: 0.6009, Test Loss: 0.5755\n",
      "Epoch [3/10], Train Loss: 0.5882, Test Loss: 0.5761\n",
      "Epoch [4/10], Train Loss: 0.5864, Test Loss: 0.5748\n",
      "Epoch [5/10], Train Loss: 0.5811, Test Loss: 0.5747\n",
      "Epoch [6/10], Train Loss: 0.5849, Test Loss: 0.5756\n",
      "Epoch [7/10], Train Loss: 0.5842, Test Loss: 0.5754\n",
      "Epoch [8/10], Train Loss: 0.5827, Test Loss: 0.5747\n",
      "Epoch [9/10], Train Loss: 0.5814, Test Loss: 0.5751\n",
      "Epoch [10/10], Train Loss: 0.5818, Test Loss: 0.5746\n"
     ]
    },
    {
     "data": {
      "image/png": "[encoded data removed]",
      "text/plain": [
       "<Figure size 1000x500 with 1 Axes>"
      ]
     },
     "metadata": {},
     "output_type": "display_data"
    }
   ],
   "source": [
    "# Train\n",
    "num_epochs = 10\n",
    "train_losses = []\n",
    "test_losses = []\n",
    "\n",
    "for epoch in range(num_epochs):\n",
    "    model.train()\n",
    "    running_loss = 0.0\n",
    "    for inputs, labels in train_loader:\n",
    "        params_out, initial_out = model(inputs)\n",
    "        params_labels = labels[:, :12]\n",
    "        initial_labels = labels[:, 12:]\n",
    "        loss_params = criterion_params(params_out, params_labels)\n",
    "        loss_initial = criterion_initial(initial_out, initial_labels)\n",
    "        loss = loss_params + loss_initial\n",
    "        \n",
    "        optimizer.zero_grad()\n",
    "        loss.backward()\n",
    "        optimizer.step()\n",
    "        running_loss += loss.item()\n",
    "    \n",
    "    train_losses.append(running_loss/len(train_loader))\n",
    "    \n",
    "    model.eval()\n",
    "    test_loss = 0.0\n",
    "    with torch.no_grad():\n",
    "        for inputs, labels in test_loader:\n",
    "            params_labels = labels[:, :12]\n",
    "            initial_labels = labels[:, 12:]\n",
    "            params_out, initial_out = model(inputs)\n",
    "            loss_params = criterion_params(params_out, params_labels)\n",
    "            loss_initial = criterion_initial(initial_out, initial_labels)\n",
    "            test_loss += (loss_params + loss_initial).item()\n",
    "    \n",
    "    test_losses.append(test_loss/len(test_loader))\n",
    "    \n",
    "    print(f'Epoch [{epoch+1}/{num_epochs}], Train Loss: {running_loss/len(train_loader):.4f}, Test Loss: {test_loss/len(test_loader):.4f}')\n",
    "\n",
    "# Plot the loss curves\n",
    "plt.figure(figsize=(10, 5))\n",
    "plt.plot(range(num_epochs), train_losses, label='Train Loss')\n",
    "plt.plot(range(num_epochs), test_losses, label='Test Loss')\n",
    "plt.xlabel('Epochs')\n",
    "plt.ylabel('Loss')\n",
    "plt.title('Loss Curves')\n",
    "plt.legend()\n",
    "plt.show()"
   ]
  }
 ],
 "metadata": {
  "kernelspec": {
   "display_name": "base",
   "language": "python",
   "name": "python3"
  },
  "language_info": {
   "codemirror_mode": {
    "name": "ipython",
    "version": 3
   },
   "file_extension": ".py",
   "mimetype": "text/x-python",
   "name": "python",
   "nbconvert_exporter": "python",
   "pygments_lexer": "ipython3",
   "version": "3.11.5"
  }
 },
 "nbformat": 4,
 "nbformat_minor": 2
}
